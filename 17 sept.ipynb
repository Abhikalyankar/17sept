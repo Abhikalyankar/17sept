{
 "cells": [
  {
   "cell_type": "markdown",
   "id": "be473141-33fd-48cc-8cfd-372c5228018b",
   "metadata": {},
   "source": [
    "# Assignment : 17th Sept'23 : Python Assignemnt"
   ]
  },
  {
   "cell_type": "markdown",
   "id": "654cec64-249d-41fb-b3bb-f3e3c580f713",
   "metadata": {},
   "source": [
    "## For Loop :-"
   ]
  },
  {
   "cell_type": "markdown",
   "id": "4e0ee4b8-a74b-403f-9c9b-145e5a0a5349",
   "metadata": {},
   "source": [
    "### Write a Python program to print numbers from 1 to 10 using a for loop."
   ]
  },
  {
   "cell_type": "code",
   "execution_count": 10,
   "id": "ea4026e0-b934-4972-93c6-d224881a4357",
   "metadata": {},
   "outputs": [
    {
     "name": "stdout",
     "output_type": "stream",
     "text": [
      "1\n",
      "2\n",
      "3\n",
      "4\n",
      "5\n",
      "6\n",
      "7\n",
      "8\n",
      "9\n",
      "10\n"
     ]
    }
   ],
   "source": [
    "for number in range(1,11):\n",
    "    print(number)"
   ]
  },
  {
   "cell_type": "code",
   "execution_count": 11,
   "id": "f084abe4-7a9f-4a2d-b639-5de05d6ac649",
   "metadata": {},
   "outputs": [],
   "source": [
    "# for loop"
   ]
  },
  {
   "cell_type": "code",
   "execution_count": 5,
   "id": "b9365685-3cfe-497e-8975-da03a2d89c7f",
   "metadata": {},
   "outputs": [
    {
     "name": "stdout",
     "output_type": "stream",
     "text": [
      "1\n",
      "2\n",
      "3\n",
      "4\n",
      "5\n",
      "6\n",
      "7\n",
      "8\n",
      "9\n",
      "10\n"
     ]
    }
   ],
   "source": [
    "for i in range(1,11):\n",
    "    print(i)"
   ]
  },
  {
   "cell_type": "code",
   "execution_count": null,
   "id": "b28c94fa-7333-4ad4-aa58-272c1aee9f83",
   "metadata": {},
   "outputs": [],
   "source": [
    "# while"
   ]
  },
  {
   "cell_type": "code",
   "execution_count": 4,
   "id": "ecaa0a7b-bc97-40f4-a6cf-e16114990815",
   "metadata": {},
   "outputs": [
    {
     "name": "stdout",
     "output_type": "stream",
     "text": [
      "1\n",
      "2\n",
      "3\n",
      "4\n",
      "5\n",
      "6\n",
      "7\n",
      "8\n",
      "9\n",
      "10\n"
     ]
    }
   ],
   "source": [
    "number = 1\n",
    "while number <= 10:\n",
    "    print(number)\n",
    "    number += 1"
   ]
  },
  {
   "cell_type": "code",
   "execution_count": null,
   "id": "b439c50d-e977-48fa-8522-b8ae6a707ec5",
   "metadata": {},
   "outputs": [],
   "source": []
  },
  {
   "cell_type": "markdown",
   "id": "a0318c90-def0-4ccf-b3d9-029fa6190885",
   "metadata": {},
   "source": [
    "### Write a Python program to calculate the sum of all numbers from 1 to 100 using a for loop."
   ]
  },
  {
   "cell_type": "code",
   "execution_count": 8,
   "id": "25e9234b-b281-4e75-817f-5b0d7f3a418f",
   "metadata": {},
   "outputs": [
    {
     "name": "stdout",
     "output_type": "stream",
     "text": [
      "1,2,3,4,5,6,7,8,9,10,11,12,13,14,15,16,17,18,19,20,21,22,23,24,25,26,27,28,29,30,31,32,33,34,35,36,37,38,39,40,41,42,43,44,45,46,47,48,49,50,51,52,53,54,55,56,57,58,59,60,61,62,63,64,65,66,67,68,69,70,71,72,73,74,75,76,77,78,79,80,81,82,83,84,85,86,87,88,89,90,91,92,93,94,95,96,97,98,99,100,"
     ]
    }
   ],
   "source": [
    "for i in range(1,101):\n",
    "    print(i,end=\",\")"
   ]
  },
  {
   "cell_type": "code",
   "execution_count": null,
   "id": "930042b7-8a2e-481c-8791-f10da85ad69e",
   "metadata": {},
   "outputs": [],
   "source": []
  },
  {
   "cell_type": "markdown",
   "id": "be538644-f252-40e8-9ddf-b63c0dd76379",
   "metadata": {},
   "source": [
    "### How do you iterate through a list using a for loop in Python?"
   ]
  },
  {
   "cell_type": "code",
   "execution_count": 9,
   "id": "dfc6bff4-45cf-44de-b9df-2ca8ff49ee5c",
   "metadata": {},
   "outputs": [
    {
     "name": "stdout",
     "output_type": "stream",
     "text": [
      "1\n",
      "2\n",
      "3\n",
      "4\n",
      "5\n",
      "6\n"
     ]
    }
   ],
   "source": [
    "list = [1,2,3,4,5,6]\n",
    "\n",
    "for item in list:\n",
    "    print(item)"
   ]
  },
  {
   "cell_type": "code",
   "execution_count": null,
   "id": "46691f02-8185-4225-9315-df583bdc661f",
   "metadata": {},
   "outputs": [],
   "source": []
  },
  {
   "cell_type": "markdown",
   "id": "da53eef6-5535-482c-a407-caca2a10b8b1",
   "metadata": {},
   "source": [
    "### Write a Python program to find the product of all elements in a list using a for loop."
   ]
  },
  {
   "cell_type": "code",
   "execution_count": 12,
   "id": "864dee3b-a64d-4372-bfd0-b3b4d30084e1",
   "metadata": {},
   "outputs": [
    {
     "name": "stdout",
     "output_type": "stream",
     "text": [
      "1\n",
      "2\n",
      "3\n",
      "4\n",
      "5\n",
      "6\n",
      "7\n",
      "8\n",
      "9\n"
     ]
    }
   ],
   "source": [
    "my_list = [1,2,3,4,5,6,7,8,9]\n",
    "\n",
    "for item in my_list:\n",
    "    print(item)"
   ]
  },
  {
   "cell_type": "markdown",
   "id": "f4e0184a-e4fa-425e-9a1c-13e9d3c87b73",
   "metadata": {},
   "source": [
    "### Write a Python program to find the product of all elements in a list using a for loop."
   ]
  },
  {
   "cell_type": "code",
   "execution_count": 13,
   "id": "494c051d-47e0-44cf-98be-0eb53dd4e449",
   "metadata": {},
   "outputs": [
    {
     "name": "stdout",
     "output_type": "stream",
     "text": [
      "The product of all elements in the list is: 120\n"
     ]
    }
   ],
   "source": [
    "# Define a list of numbers\n",
    "numbers = [1, 2, 3, 4, 5]\n",
    "\n",
    "# Initialize the product variable to 1\n",
    "product = 1\n",
    "\n",
    "# Iterate through the list using a for loop\n",
    "for number in numbers:\n",
    "    product *= number  # Multiply each number with the product\n",
    "\n",
    "# Print the final product\n",
    "print(\"The product of all elements in the list is:\", product)\n"
   ]
  },
  {
   "cell_type": "code",
   "execution_count": null,
   "id": "dcb4c471-480c-47cf-ba9a-47d62a40b84d",
   "metadata": {},
   "outputs": [],
   "source": []
  },
  {
   "cell_type": "markdown",
   "id": "56bee164-0850-41c1-98ef-c8e506c39cf3",
   "metadata": {},
   "source": [
    "### Create a Python program that prints all even numbers from 1 to 20 using a for loop"
   ]
  },
  {
   "cell_type": "code",
   "execution_count": 16,
   "id": "d399b916-25e3-4b2e-a6c4-e32d49be339c",
   "metadata": {},
   "outputs": [
    {
     "name": "stdout",
     "output_type": "stream",
     "text": [
      "2,4,6,8,10,12,14,16,18,20,"
     ]
    }
   ],
   "source": [
    "for i in range(1,21):\n",
    "    if i % 2 == 0:\n",
    "        print(i, end = \",\")"
   ]
  },
  {
   "cell_type": "code",
   "execution_count": null,
   "id": "db3037fe-59c2-40dc-9079-3c0187144891",
   "metadata": {},
   "outputs": [],
   "source": []
  },
  {
   "cell_type": "markdown",
   "id": "6a01b0d8-7696-4479-b088-8ad2f1c50b92",
   "metadata": {},
   "source": [
    "### Write a Python program that calculates the factorial of a number using a for loop."
   ]
  },
  {
   "cell_type": "code",
   "execution_count": 22,
   "id": "8998d4ef-d86c-42f2-8e36-325e03e30c76",
   "metadata": {},
   "outputs": [
    {
     "name": "stdin",
     "output_type": "stream",
     "text": [
      "Enter a number :  7\n"
     ]
    },
    {
     "name": "stdout",
     "output_type": "stream",
     "text": [
      "The Factorial of 7 is 5040\n"
     ]
    }
   ],
   "source": [
    "def factorial(number):\n",
    "    \n",
    "    product = 1\n",
    "    \n",
    "    for i in range(1, number+1):\n",
    "        product *= i\n",
    "        \n",
    "    return product\n",
    "\n",
    "\n",
    "number = int(input(\"Enter a number : \"))\n",
    "\n",
    "result = factorial(number)\n",
    "\n",
    "print(f\"The Factorial of {number} is {result}\")"
   ]
  },
  {
   "cell_type": "code",
   "execution_count": null,
   "id": "72ae9528-5634-45b4-8017-2ee42d216349",
   "metadata": {},
   "outputs": [],
   "source": []
  },
  {
   "cell_type": "markdown",
   "id": "0b346a84-face-43c6-b851-671b28f5b8f5",
   "metadata": {},
   "source": [
    "### How can you iterate through the characters of a string using a for loop in Python?"
   ]
  },
  {
   "cell_type": "code",
   "execution_count": 27,
   "id": "4fb43b03-db81-438a-8605-dcd01c7f1f6a",
   "metadata": {},
   "outputs": [
    {
     "name": "stdin",
     "output_type": "stream",
     "text": [
      "Enter a String : abhishek\n"
     ]
    },
    {
     "name": "stdout",
     "output_type": "stream",
     "text": [
      "a\n",
      "b\n",
      "h\n",
      "i\n",
      "s\n",
      "h\n",
      "e\n",
      "k\n",
      "None\n"
     ]
    }
   ],
   "source": [
    "def given_string(string):\n",
    "    for i in string:\n",
    "        print(i)\n",
    "        \n",
    "string = input(\"Enter a String :\")\n",
    "\n",
    "char = given_string(string)\n",
    "\n",
    "print(char)"
   ]
  },
  {
   "cell_type": "code",
   "execution_count": null,
   "id": "81d95210-e844-4640-a76a-f0f98acea5c3",
   "metadata": {},
   "outputs": [],
   "source": []
  },
  {
   "cell_type": "markdown",
   "id": "7d6e3ee5-320a-4037-9527-cf049ebb1b90",
   "metadata": {},
   "source": [
    "### Write a Python program to find the largest number in a list using a for loop."
   ]
  },
  {
   "cell_type": "code",
   "execution_count": 29,
   "id": "c2b49747-8930-460f-83be-60e32f76e74c",
   "metadata": {},
   "outputs": [
    {
     "name": "stdout",
     "output_type": "stream",
     "text": [
      "90\n"
     ]
    }
   ],
   "source": [
    "def find_largest_number(numbers):\n",
    "    if not numbers:\n",
    "        return none\n",
    "    \n",
    "    largest = numbers[0]\n",
    "    \n",
    "    for number in numbers:\n",
    "        if number > largest:\n",
    "            largest = number\n",
    "            \n",
    "    return largest\n",
    "\n",
    "\n",
    "numbers = [10,20,30,60,40,90,70,80]\n",
    "\n",
    "largest_number = find_largest_number(numbers)\n",
    "\n",
    "print(largest_number)"
   ]
  },
  {
   "cell_type": "code",
   "execution_count": null,
   "id": "f77120cf-6c4b-41ba-809d-58f4fccf87d7",
   "metadata": {},
   "outputs": [],
   "source": []
  },
  {
   "cell_type": "markdown",
   "id": "d1a2a1f8-1b49-4c9c-aa2d-280d018a552c",
   "metadata": {},
   "source": [
    "### Create a Python program that prints the Fibonacci sequence up to a specified limit using a for loop."
   ]
  },
  {
   "cell_type": "code",
   "execution_count": 33,
   "id": "075b3f65-91dd-4331-b13d-bc01b626e8f2",
   "metadata": {},
   "outputs": [
    {
     "name": "stdin",
     "output_type": "stream",
     "text": [
      "Enter a number : 11\n"
     ]
    },
    {
     "name": "stdout",
     "output_type": "stream",
     "text": [
      "0 1 1 2 3 5 8 13 21 34 55 "
     ]
    }
   ],
   "source": [
    "limit = int(input(\"Enter a number :\"))\n",
    "\n",
    "a,b = 0,1\n",
    "\n",
    "for i in range(limit):\n",
    "    print(a,end = ' ' )\n",
    "    a,b = b , a+b"
   ]
  },
  {
   "cell_type": "code",
   "execution_count": null,
   "id": "bf4013d1-d2b8-41d7-a98b-8bd7590e0545",
   "metadata": {},
   "outputs": [],
   "source": []
  },
  {
   "cell_type": "markdown",
   "id": "121a298e-175c-4d72-baf7-8bc69532dcc3",
   "metadata": {},
   "source": [
    "### Write a Python program to count the number of vowels in a given string using a for loop.Write a Python program to count the number of vowels in a given string using a for loop."
   ]
  },
  {
   "cell_type": "code",
   "execution_count": 41,
   "id": "182dcc37-b6ce-4623-83e7-26a3e0d0d367",
   "metadata": {},
   "outputs": [
    {
     "name": "stdin",
     "output_type": "stream",
     "text": [
      "Enter a string : abhi\n"
     ]
    },
    {
     "name": "stdout",
     "output_type": "stream",
     "text": [
      "2\n"
     ]
    }
   ],
   "source": [
    "def count_vowels(string):\n",
    "    vowels =  {'a', 'e', 'i', 'o', 'u'}\n",
    "    count = 0\n",
    "    for char in string:\n",
    "        if char in vowels:\n",
    "            count += 1\n",
    "    return count\n",
    "    \n",
    "string = input(\"Enter a string :\")\n",
    "\n",
    "count_str = count_vowels(string)\n",
    "\n",
    "print(count_str)"
   ]
  },
  {
   "cell_type": "code",
   "execution_count": null,
   "id": "e44b4aac-63d5-4b25-8f43-14047bd2149a",
   "metadata": {},
   "outputs": [],
   "source": []
  },
  {
   "cell_type": "markdown",
   "id": "25e01272-551d-4655-84f5-b24f884f6711",
   "metadata": {},
   "source": [
    "### Create a Python program that generates a multiplication table for a given number using a for loop"
   ]
  },
  {
   "cell_type": "code",
   "execution_count": 50,
   "id": "3c16eea7-4619-45a5-aae9-228592d9cede",
   "metadata": {},
   "outputs": [
    {
     "name": "stdin",
     "output_type": "stream",
     "text": [
      "Enter a number 6\n"
     ]
    },
    {
     "name": "stdout",
     "output_type": "stream",
     "text": [
      "6 X 1 = 6\n",
      "6 X 2 = 12\n",
      "6 X 3 = 18\n",
      "6 X 4 = 24\n",
      "6 X 5 = 30\n",
      "6 X 6 = 36\n",
      "6 X 7 = 42\n",
      "6 X 8 = 48\n",
      "6 X 9 = 54\n",
      "6 X 10 = 60\n",
      "None\n"
     ]
    }
   ],
   "source": [
    "def given(number):\n",
    "    for i in range(1,11):\n",
    "        print (f\"{number} X {i} = {number * i}\")\n",
    "        \n",
    "number = int(input(\"Enter a number\"))\n",
    "\n",
    "table = given(number)\n",
    "\n",
    "print(table)"
   ]
  },
  {
   "cell_type": "code",
   "execution_count": null,
   "id": "05914dd7-4178-4143-91a7-4dc2ce2a8d13",
   "metadata": {},
   "outputs": [],
   "source": []
  },
  {
   "cell_type": "markdown",
   "id": "dd14c7a2-11d3-4965-9dc7-26492314d5f7",
   "metadata": {},
   "source": [
    "### Write a Python program to reverse a list using a for loop."
   ]
  },
  {
   "cell_type": "code",
   "execution_count": 52,
   "id": "d80fb1d8-6f53-4f11-9df4-d391a35cd00d",
   "metadata": {},
   "outputs": [
    {
     "name": "stdout",
     "output_type": "stream",
     "text": [
      "Original list: [1, 2, 3, 4, 5]\n",
      "Reversed list: [5, 4, 3, 2, 1]\n"
     ]
    }
   ],
   "source": [
    "# Function to reverse a list using a for loop\n",
    "def reverse_list(input_list):\n",
    "    reversed_list = []\n",
    "    # Iterate through the input list in reverse order\n",
    "    for i in range(len(input_list) - 1, -1, -1):\n",
    "        reversed_list.append(input_list[i])\n",
    "    return reversed_list\n",
    "\n",
    "# Example usage:\n",
    "my_list = [1, 2, 3, 4, 5]\n",
    "reversed_list = reverse_list(my_list)\n",
    "print(\"Original list:\", my_list)\n",
    "print(\"Reversed list:\", reversed_list)\n"
   ]
  },
  {
   "cell_type": "code",
   "execution_count": null,
   "id": "312a2e64-a34c-4d24-8358-293094f2841a",
   "metadata": {},
   "outputs": [],
   "source": []
  },
  {
   "cell_type": "markdown",
   "id": "c4ca0583-d927-4f1b-b8ba-dc4093b0a897",
   "metadata": {},
   "source": [
    "### Write a Python program to find the common elements between two lists using a for loop."
   ]
  },
  {
   "cell_type": "code",
   "execution_count": 55,
   "id": "634ed7aa-5ab3-4e06-a549-645bb9e132ba",
   "metadata": {},
   "outputs": [
    {
     "name": "stdout",
     "output_type": "stream",
     "text": [
      "1\n",
      "2\n"
     ]
    }
   ],
   "source": [
    "list1 = [1,2,3,4,5,6,7,8]\n",
    "list2 = [11,1,2,34,45,67,89]\n",
    "\n",
    "for i in list1:\n",
    "    if i in list2:\n",
    "        print(i)"
   ]
  },
  {
   "cell_type": "code",
   "execution_count": null,
   "id": "01ce306e-3201-4987-96ea-b0a55361bcef",
   "metadata": {},
   "outputs": [],
   "source": []
  },
  {
   "cell_type": "markdown",
   "id": "0976ea26-80d7-42a3-b4b5-c6eb5bb13a2b",
   "metadata": {},
   "source": [
    "### Explain how to use a for loop to iterate through the keys and values of a dictionary in Python."
   ]
  },
  {
   "cell_type": "code",
   "execution_count": 60,
   "id": "4282ee14-c314-432a-9f85-743b864868bf",
   "metadata": {},
   "outputs": [
    {
     "name": "stdout",
     "output_type": "stream",
     "text": [
      "keys : a, values : 1\n",
      "keys : b, values : 2\n",
      "keys : c, values : 3\n"
     ]
    }
   ],
   "source": [
    "my_dict = {'a': 1, 'b': 2, 'c': 3}\n",
    "for key, values in my_dict.items():\n",
    "    print(f\"keys : {key}, values : {values}\")"
   ]
  },
  {
   "cell_type": "code",
   "execution_count": null,
   "id": "77afd8fa-e393-4b62-a785-e4c39d6b3c20",
   "metadata": {},
   "outputs": [],
   "source": []
  },
  {
   "cell_type": "markdown",
   "id": "fcd9eba5-7ad7-40d7-b1c0-13c823c5393f",
   "metadata": {},
   "source": [
    "### Write a Python program to find the GCD (Greatest Common Divisor) of two numbers using a for loop."
   ]
  },
  {
   "cell_type": "code",
   "execution_count": 1,
   "id": "345b760e-87d7-42a1-b3df-b32497ae1876",
   "metadata": {},
   "outputs": [
    {
     "name": "stdin",
     "output_type": "stream",
     "text": [
      "Enter first number:  23\n",
      "Enter second number:  33\n"
     ]
    },
    {
     "name": "stdout",
     "output_type": "stream",
     "text": [
      "The GCD of 23 and 33 is: 1\n"
     ]
    }
   ],
   "source": [
    "# Function to find GCD of two numbers using Euclidean algorithm\n",
    "def gcd(a, b):\n",
    "    while b != 0:\n",
    "        a, b = b, a % b\n",
    "    return a\n",
    "\n",
    "# Input: Read the two numbers from the user\n",
    "num1 = int(input(\"Enter first number: \"))\n",
    "num2 = int(input(\"Enter second number: \"))\n",
    "\n",
    "# Calculate GCD using the gcd function\n",
    "result_gcd = gcd(num1, num2)\n",
    "\n",
    "# Output: Print the GCD of the two numbers\n",
    "print(f\"The GCD of {num1} and {num2} is: {result_gcd}\")\n"
   ]
  },
  {
   "cell_type": "code",
   "execution_count": null,
   "id": "47b14093-11b6-49d7-9d19-176e16c0447f",
   "metadata": {},
   "outputs": [],
   "source": []
  },
  {
   "cell_type": "markdown",
   "id": "c189ac29-7418-4dde-99b4-84cd12da0af2",
   "metadata": {},
   "source": [
    "### Create a Python program that checks if a string is a palindrome using a for loop."
   ]
  },
  {
   "cell_type": "code",
   "execution_count": 2,
   "id": "25d6ec35-2099-49a3-a8e6-2cc8a3fb0694",
   "metadata": {},
   "outputs": [
    {
     "name": "stdin",
     "output_type": "stream",
     "text": [
      "Enter a string to check if it is a palindrome:  abhi\n"
     ]
    },
    {
     "name": "stdout",
     "output_type": "stream",
     "text": [
      "\"abhi\" is not a palindrome.\n"
     ]
    }
   ],
   "source": [
    "# Function to check if a string is a palindrome\n",
    "def is_palindrome(s):\n",
    "    # Remove any non-alphanumeric characters and convert the string to lowercase\n",
    "    s = ''.join(char.lower() for char in s if char.isalnum())\n",
    "    \n",
    "    # Get the length of the string\n",
    "    length = len(s)\n",
    "    \n",
    "    # Iterate through the string to check if it reads the same forward and backward\n",
    "    for i in range(length // 2):\n",
    "        if s[i] != s[length - 1 - i]:\n",
    "            return False\n",
    "    return True\n",
    "\n",
    "# Input: Read the string from the user\n",
    "input_string = input(\"Enter a string to check if it is a palindrome: \")\n",
    "\n",
    "# Check if the input string is a palindrome\n",
    "if is_palindrome(input_string):\n",
    "    print(f'\"{input_string}\" is a palindrome.')\n",
    "else:\n",
    "    print(f'\"{input_string}\" is not a palindrome.')\n"
   ]
  },
  {
   "cell_type": "code",
   "execution_count": null,
   "id": "def15047-f061-40f4-902c-c910b044346a",
   "metadata": {},
   "outputs": [],
   "source": []
  },
  {
   "cell_type": "markdown",
   "id": "5a533cdd-88b8-4ee1-a63f-e6bd3b7da5a5",
   "metadata": {},
   "source": [
    "### Write a Python program to remove duplicates from a list using a for loop."
   ]
  },
  {
   "cell_type": "code",
   "execution_count": 6,
   "id": "e24fca55-af82-4386-a3d9-e12cf9b44ae7",
   "metadata": {},
   "outputs": [
    {
     "name": "stdout",
     "output_type": "stream",
     "text": [
      "[1, 2, 2, 3, 4, 4, 5, 1, 6, 7, 8, 6]\n",
      "[1, 2, 3, 4, 5, 6, 7, 8]\n"
     ]
    }
   ],
   "source": [
    "def remove_element(input_list):\n",
    "    unique_list = []\n",
    "    for item in input_list:\n",
    "        if item not in unique_list:\n",
    "            unique_list.append(item)\n",
    "    return unique_list\n",
    "\n",
    "my_list = [1, 2, 2, 3, 4, 4, 5, 1, 6, 7, 8, 6]\n",
    "\n",
    "unique_list = remove_element(my_list)\n",
    "\n",
    "print(my_list)\n",
    "print(unique_list)"
   ]
  },
  {
   "cell_type": "code",
   "execution_count": null,
   "id": "61b6506b-512c-4d8e-9b4d-bb441835fc44",
   "metadata": {},
   "outputs": [],
   "source": []
  },
  {
   "cell_type": "markdown",
   "id": "94a46137-680f-4240-9024-97239ef25c32",
   "metadata": {},
   "source": [
    "### Create a Python program that counts the number of words in a sentence using a for loop."
   ]
  },
  {
   "cell_type": "code",
   "execution_count": 14,
   "id": "4e078a5a-3093-42cc-b17c-b98cd1b31586",
   "metadata": {},
   "outputs": [
    {
     "name": "stdin",
     "output_type": "stream",
     "text": [
      "Enter a String : abhishek\n"
     ]
    },
    {
     "name": "stdout",
     "output_type": "stream",
     "text": [
      "8\n"
     ]
    }
   ],
   "source": [
    "word = input(\"Enter a String :\")\n",
    "count = 0\n",
    "for i in word:\n",
    "    count += 1\n",
    "print(count)\n"
   ]
  },
  {
   "cell_type": "code",
   "execution_count": null,
   "id": "04e0758c-ec5f-4f0e-a989-751e0bc5a94c",
   "metadata": {},
   "outputs": [],
   "source": []
  },
  {
   "cell_type": "markdown",
   "id": "5ae13d72-adc0-42a4-b126-cf83db4d7973",
   "metadata": {},
   "source": [
    "### Write a Python program to find the sum of all odd numbers from 1 to 50 using a for loop."
   ]
  },
  {
   "cell_type": "code",
   "execution_count": 22,
   "id": "87517844-0584-4df2-a289-74d0b1a4d8f1",
   "metadata": {},
   "outputs": [
    {
     "name": "stdout",
     "output_type": "stream",
     "text": [
      "625\n"
     ]
    }
   ],
   "source": [
    "count = 0\n",
    "for number in range(1,51):\n",
    "    if number % 2 != 0:\n",
    "        count += number\n",
    "print(count)"
   ]
  },
  {
   "cell_type": "code",
   "execution_count": null,
   "id": "650c5260-3bdb-4818-b1a5-8f855d910e4f",
   "metadata": {},
   "outputs": [],
   "source": []
  },
  {
   "cell_type": "markdown",
   "id": "9e79fcbd-f1e2-4df0-a6c0-81060ca19173",
   "metadata": {},
   "source": [
    "### Write a Python program that checks if a given year is a leap year using a for loop."
   ]
  },
  {
   "cell_type": "code",
   "execution_count": 27,
   "id": "0ca3de27-e379-4037-9dd0-126fc5693f54",
   "metadata": {},
   "outputs": [
    {
     "name": "stdin",
     "output_type": "stream",
     "text": [
      "Enter a number :  2000\n"
     ]
    },
    {
     "name": "stdout",
     "output_type": "stream",
     "text": [
      "Leap Year\n"
     ]
    }
   ],
   "source": [
    "def is_leap(year):\n",
    "    if (year % 4 and year % 100) or (year % 400):\n",
    "        return \"Not Leap Year\"\n",
    "    return \"Leap Year\"\n",
    "\n",
    "year = int(input(\"Enter a number : \"))\n",
    "\n",
    "check = is_leap(year)\n",
    "\n",
    "print(check)"
   ]
  },
  {
   "cell_type": "code",
   "execution_count": null,
   "id": "ace1f781-6346-485a-ab54-94a08114aadd",
   "metadata": {},
   "outputs": [],
   "source": []
  },
  {
   "cell_type": "markdown",
   "id": "8f8593b6-4582-4650-9c99-80f99c1c73ce",
   "metadata": {},
   "source": [
    "### Create a Python program that calculates the square root of a number using a for loop."
   ]
  },
  {
   "cell_type": "code",
   "execution_count": 1,
   "id": "65ac55fc-c481-493f-8e60-513e0962a111",
   "metadata": {},
   "outputs": [
    {
     "name": "stdin",
     "output_type": "stream",
     "text": [
      "Enter a number to find its square root:  25\n"
     ]
    },
    {
     "name": "stdout",
     "output_type": "stream",
     "text": [
      "The square root of 25.0 is approximately 5.0\n"
     ]
    }
   ],
   "source": [
    "# Function to calculate the square root using Newton's method\n",
    "def sqrt(number, iterations=10):\n",
    "    # Initial guess will be half of the number\n",
    "    guess = number / 2.0\n",
    "\n",
    "    # Perform iterations to approximate the square root\n",
    "    for _ in range(iterations):\n",
    "        guess = (guess + number / guess) / 2.0\n",
    "\n",
    "    return guess\n",
    "\n",
    "# Input from the user\n",
    "number = float(input(\"Enter a number to find its square root: \"))\n",
    "\n",
    "# Calculating the square root\n",
    "result = sqrt(number)\n",
    "\n",
    "# Displaying the result\n",
    "print(f\"The square root of {number} is approximately {result}\")\n"
   ]
  },
  {
   "cell_type": "code",
   "execution_count": null,
   "id": "00a20fda-630c-4bb6-80df-9ec5411f419f",
   "metadata": {},
   "outputs": [],
   "source": []
  },
  {
   "cell_type": "markdown",
   "id": "009827f1-4f01-4c31-ac27-a5afd3342664",
   "metadata": {},
   "source": [
    "### Write a Python program to find the LCM (Least Common Multiple) of two numbers using a for loop."
   ]
  },
  {
   "cell_type": "code",
   "execution_count": null,
   "id": "a8d919f8-afa6-4fc5-b23c-884fefb593d4",
   "metadata": {},
   "outputs": [
    {
     "name": "stdin",
     "output_type": "stream",
     "text": [
      "Enter the first number:  12\n",
      "Enter the second number:  14\n"
     ]
    },
    {
     "name": "stdout",
     "output_type": "stream",
     "text": [
      "The LCM of 12 and 14 is 84\n"
     ]
    }
   ],
   "source": [
    "def compute_lcm(x, y):\n",
    "    # Find the greater of the two numbers\n",
    "    if x > y:\n",
    "        greater = x\n",
    "    else:\n",
    "        greater = y\n",
    "\n",
    "    # Loop until we find the LCM\n",
    "    while True:\n",
    "        if (greater % x == 0) and (greater % y == 0):\n",
    "            lcm = greater\n",
    "            break\n",
    "        greater += 1\n",
    "\n",
    "    return lcm\n",
    "\n",
    "# Input from the user\n",
    "num1 = int(input(\"Enter the first number: \"))\n",
    "num2 = int(input(\"Enter the second number: \"))\n",
    "\n",
    "# Calculating the LCM\n",
    "lcm = compute_lcm(num1, num2)\n",
    "\n",
    "# Displaying the result\n",
    "print(f\"The LCM of {num1} and {num2} is {lcm}\")\n"
   ]
  },
  {
   "cell_type": "code",
   "execution_count": null,
   "id": "221d64b7-55fb-455f-b33a-cd77408beec2",
   "metadata": {},
   "outputs": [],
   "source": []
  },
  {
   "cell_type": "markdown",
   "id": "8533603d-ad89-4d56-bfa5-ad9e99d48a49",
   "metadata": {},
   "source": [
    "## If else :"
   ]
  },
  {
   "cell_type": "markdown",
   "id": "96a5a377-184c-47f8-a6d1-36a594a04ce8",
   "metadata": {},
   "source": [
    "### Write a Python program to check if a number is positive, negative, or zero using an if-else statement"
   ]
  },
  {
   "cell_type": "code",
   "execution_count": 2,
   "id": "6a164ed1-b898-4376-abb0-33e80d13fd12",
   "metadata": {},
   "outputs": [
    {
     "name": "stdin",
     "output_type": "stream",
     "text": [
      "Enter a Number :  34\n"
     ]
    },
    {
     "name": "stdout",
     "output_type": "stream",
     "text": [
      "Positive\n"
     ]
    }
   ],
   "source": [
    "def given_num(num):\n",
    "    if num > 0:\n",
    "        return \"Positive\"\n",
    "    elif num < 0:\n",
    "        return \"Negative\"\n",
    "    else:\n",
    "        return \"Zero\"\n",
    "        \n",
    "num = int(input(\"Enter a Number : \"))\n",
    "\n",
    "given = given_num(num)\n",
    "\n",
    "print(given)"
   ]
  },
  {
   "cell_type": "code",
   "execution_count": null,
   "id": "39374f2e-3d95-481c-8694-65fd1c6227b6",
   "metadata": {},
   "outputs": [],
   "source": []
  },
  {
   "cell_type": "markdown",
   "id": "6ea3c64e-798a-4fde-97c8-b2d330a16adb",
   "metadata": {},
   "source": [
    "### Create a Python program that checks if a given number is even or odd using an if-else statement."
   ]
  },
  {
   "cell_type": "code",
   "execution_count": 8,
   "id": "38301527-2697-40e4-a48d-46d32f02e3b4",
   "metadata": {},
   "outputs": [
    {
     "name": "stdin",
     "output_type": "stream",
     "text": [
      "Enter a number to check if it is even or odd:  12\n"
     ]
    },
    {
     "name": "stdout",
     "output_type": "stream",
     "text": [
      "The number 12 is even.\n"
     ]
    }
   ],
   "source": [
    "# Function to check if a number is even or odd\n",
    "def check_even_or_odd(number):\n",
    "    if number % 2 == 0:\n",
    "        return \"even\"\n",
    "    else:\n",
    "        return \"odd\"\n",
    "\n",
    "# Input from the user\n",
    "number = int(input(\"Enter a number to check if it is even or odd: \"))\n",
    "\n",
    "# Checking if the number is even or odd\n",
    "result = check_even_or_odd(number)\n",
    "\n",
    "# Displaying the result\n",
    "print(f\"The number {number} is {result}.\")\n"
   ]
  },
  {
   "cell_type": "code",
   "execution_count": null,
   "id": "662c263b-16c7-4364-a21e-51454303716d",
   "metadata": {},
   "outputs": [],
   "source": []
  },
  {
   "cell_type": "markdown",
   "id": "a60d3a17-ea17-48dc-8ec9-a605019e412b",
   "metadata": {},
   "source": [
    "### How can you use nested if-else statements in Python, and provide an example?"
   ]
  },
  {
   "cell_type": "code",
   "execution_count": 13,
   "id": "1b2f07f6-9c98-4847-8a21-96c0b286d990",
   "metadata": {},
   "outputs": [
    {
     "name": "stdin",
     "output_type": "stream",
     "text": [
      "Enter Marks 78\n"
     ]
    },
    {
     "name": "stdout",
     "output_type": "stream",
     "text": [
      "Your grade is : C\n"
     ]
    }
   ],
   "source": [
    "def determine_grade(marks):\n",
    "    if marks >= 90:\n",
    "        grade = 'A'\n",
    "    else:\n",
    "        if 90>=marks >=80:\n",
    "            grade = 'B'\n",
    "        else:\n",
    "            if 80 >= marks >=70:\n",
    "                grade = 'C'\n",
    "            else:\n",
    "                grade = 'D'\n",
    "    return grade\n",
    "\n",
    "marks = int(input(\"Enter Marks\"))\n",
    "\n",
    "grade = determine_grade(marks)\n",
    "\n",
    "print(f\"Your grade is : {grade}\")\n",
    "        \n",
    "        "
   ]
  },
  {
   "cell_type": "code",
   "execution_count": null,
   "id": "2c926c09-0912-4ff2-9707-55a8d0f08eb3",
   "metadata": {},
   "outputs": [],
   "source": []
  },
  {
   "cell_type": "markdown",
   "id": "3abc4709-153b-4aca-9350-33598c4cea3b",
   "metadata": {},
   "source": [
    "### Write a Python program to determine the largest of three numbers using if-else."
   ]
  },
  {
   "cell_type": "code",
   "execution_count": 16,
   "id": "10ade8eb-d83b-4f64-b32e-354b216914c2",
   "metadata": {},
   "outputs": [
    {
     "name": "stdin",
     "output_type": "stream",
     "text": [
      "Enter First number :  12\n",
      "Enter Second number :  1\n",
      "Enter Third number :  5\n"
     ]
    },
    {
     "name": "stdout",
     "output_type": "stream",
     "text": [
      "The largest number is : a\n"
     ]
    }
   ],
   "source": [
    "def largest(a,b,c):\n",
    "    if a > b and a > c:\n",
    "        largest = \"a\"\n",
    "    elif b > a and b > c:\n",
    "        largest = \"b\"\n",
    "    else:\n",
    "        largest = \"c\"\n",
    "    return largest\n",
    "        \n",
    "a = int(input(\"Enter First number : \"))\n",
    "b = int(input(\"Enter Second number : \"))\n",
    "c = int(input(\"Enter Third number : \"))\n",
    "\n",
    "number=largest(a,b,c)\n",
    "\n",
    "print(f\"The largest number is : {number}\")"
   ]
  },
  {
   "cell_type": "code",
   "execution_count": null,
   "id": "c505dbb7-7344-4d55-9a96-7c6c29dba276",
   "metadata": {},
   "outputs": [],
   "source": []
  },
  {
   "cell_type": "markdown",
   "id": "6de42fb3-97ae-40e7-a349-ac0109cce9a0",
   "metadata": {},
   "source": [
    "### Write a Python program that calculates the absolute value of a number using if-else."
   ]
  },
  {
   "cell_type": "code",
   "execution_count": 18,
   "id": "a42fe6e1-55c1-4176-8454-3f44a27965a2",
   "metadata": {},
   "outputs": [
    {
     "name": "stdin",
     "output_type": "stream",
     "text": [
      "Enter a number :  -90\n"
     ]
    },
    {
     "name": "stdout",
     "output_type": "stream",
     "text": [
      "Absolute Value is 90\n"
     ]
    }
   ],
   "source": [
    "def absolute(number):\n",
    "    if number < 0:\n",
    "        return -number\n",
    "    else:\n",
    "        return number\n",
    "    \n",
    "number = int(input(\"Enter a number : \"))\n",
    "\n",
    "abs_num = absolute(number)\n",
    "\n",
    "print(f\"Absolute Value is {abs_num}\")"
   ]
  },
  {
   "cell_type": "code",
   "execution_count": null,
   "id": "1a16ba30-2a7f-438b-af6d-e49ded761253",
   "metadata": {},
   "outputs": [],
   "source": []
  },
  {
   "cell_type": "markdown",
   "id": "9de4725e-183e-4aba-9afa-229e92de7a88",
   "metadata": {},
   "source": [
    "### Create a Python program that checks if a given character is a vowel or consonant using if-else."
   ]
  },
  {
   "cell_type": "code",
   "execution_count": 3,
   "id": "a4975f3b-ad87-4f58-ab3f-f67c0d739963",
   "metadata": {},
   "outputs": [
    {
     "name": "stdin",
     "output_type": "stream",
     "text": [
      "Enter a Char :  b\n"
     ]
    },
    {
     "name": "stdout",
     "output_type": "stream",
     "text": [
      "The given char is Consonant\n"
     ]
    }
   ],
   "source": [
    "vowels = \"aeiou\"\n",
    "def given_char(char):\n",
    "    if char in vowels:\n",
    "        return \"Vowels\"\n",
    "    else:\n",
    "        return \"Consonant\"\n",
    "    \n",
    "char = input(\"Enter a Char : \")\n",
    "\n",
    "given = given_char(char)\n",
    "\n",
    "print(f\"The given char is {given}\")"
   ]
  },
  {
   "cell_type": "code",
   "execution_count": null,
   "id": "702704df-343e-4d2a-8537-d2666672a17c",
   "metadata": {},
   "outputs": [],
   "source": []
  },
  {
   "cell_type": "markdown",
   "id": "dc7c6c52-beb1-41d4-af36-fa0be97dd4fe",
   "metadata": {},
   "source": [
    "### Write a Python program to determine if a user is eligible to vote based on their age using if-else."
   ]
  },
  {
   "cell_type": "code",
   "execution_count": 5,
   "id": "65171c93-cd52-4631-ba77-cd14de07e438",
   "metadata": {},
   "outputs": [
    {
     "name": "stdin",
     "output_type": "stream",
     "text": [
      "Enter Your age :  29\n"
     ]
    },
    {
     "name": "stdout",
     "output_type": "stream",
     "text": [
      "You can Vote \n"
     ]
    }
   ],
   "source": [
    "age = int(input(\"Enter Your age : \"))\n",
    "\n",
    "if age > 18:\n",
    "    print(\"You can Vote \")\n",
    "else:\n",
    "    print(\"You cannot Vote\")"
   ]
  },
  {
   "cell_type": "code",
   "execution_count": null,
   "id": "d997bc6a-b70d-4d49-8512-89fedd201f20",
   "metadata": {},
   "outputs": [],
   "source": []
  },
  {
   "cell_type": "markdown",
   "id": "48943cc5-0461-4a45-9b85-c80d7868f538",
   "metadata": {},
   "source": [
    "### Create a Python program that calculates the discount amount based on the purchase amount using if-else"
   ]
  },
  {
   "cell_type": "code",
   "execution_count": 6,
   "id": "588fc9cd-5120-4660-aed4-d990e55d8c00",
   "metadata": {},
   "outputs": [
    {
     "name": "stdin",
     "output_type": "stream",
     "text": [
      "Enter the purchase amount: $ 5000\n"
     ]
    },
    {
     "name": "stdout",
     "output_type": "stream",
     "text": [
      "Purchase Amount: $5000.00\n",
      "Discount Amount: -$1000.00\n",
      "Final Amount to Pay: $4000.00\n"
     ]
    }
   ],
   "source": [
    "# Function to calculate the discount amount based on the purchase amount\n",
    "def calculate_discount(purchase_amount):\n",
    "    if purchase_amount >= 500:\n",
    "        discount_rate = 0.20  # 20% discount\n",
    "    elif purchase_amount >= 200:\n",
    "        discount_rate = 0.10  # 10% discount\n",
    "    else:\n",
    "        discount_rate = 0.0   # No discount\n",
    "\n",
    "    discount_amount = purchase_amount * discount_rate\n",
    "    return discount_amount\n",
    "\n",
    "# Input from the user\n",
    "purchase_amount = float(input(\"Enter the purchase amount: $\"))\n",
    "\n",
    "# Calculating the discount\n",
    "discount_amount = calculate_discount(purchase_amount)\n",
    "final_amount = purchase_amount - discount_amount\n",
    "\n",
    "# Displaying the result\n",
    "print(f\"Purchase Amount: ${purchase_amount:.2f}\")\n",
    "print(f\"Discount Amount: -${discount_amount:.2f}\")\n",
    "print(f\"Final Amount to Pay: ${final_amount:.2f}\")\n"
   ]
  },
  {
   "cell_type": "code",
   "execution_count": null,
   "id": "2da4d233-4e5b-4759-b708-1a58d0a3707c",
   "metadata": {},
   "outputs": [],
   "source": []
  },
  {
   "cell_type": "markdown",
   "id": "7feba022-82f1-411d-b82d-a934420e9659",
   "metadata": {},
   "source": [
    "### Write a Python program to check if a number is within a specified range using if-else."
   ]
  },
  {
   "cell_type": "code",
   "execution_count": 7,
   "id": "73c751f1-961d-45ea-a4f3-d8c1615f8cfd",
   "metadata": {},
   "outputs": [
    {
     "name": "stdin",
     "output_type": "stream",
     "text": [
      "Enter a number:  12\n",
      "Enter the lower bound of the range:  1222\n",
      "Enter the upper bound of the range:  122222\n"
     ]
    },
    {
     "name": "stdout",
     "output_type": "stream",
     "text": [
      "The number 12.0 is not within the range 1222.0 to 122222.0.\n"
     ]
    }
   ],
   "source": [
    "# Function to check if a number is within a specified range\n",
    "def is_within_range(number, lower_bound, upper_bound):\n",
    "    if lower_bound <= number <= upper_bound:\n",
    "        return True\n",
    "    else:\n",
    "        return False\n",
    "\n",
    "# Input from the user\n",
    "number = float(input(\"Enter a number: \"))\n",
    "lower_bound = float(input(\"Enter the lower bound of the range: \"))\n",
    "upper_bound = float(input(\"Enter the upper bound of the range: \"))\n",
    "\n",
    "# Checking if the number is within the specified range\n",
    "if is_within_range(number, lower_bound, upper_bound):\n",
    "    print(f\"The number {number} is within the range {lower_bound} to {upper_bound}.\")\n",
    "else:\n",
    "    print(f\"The number {number} is not within the range {lower_bound} to {upper_bound}.\")\n"
   ]
  },
  {
   "cell_type": "code",
   "execution_count": null,
   "id": "2e3235ce-1d94-4aa7-9351-32677b44922a",
   "metadata": {},
   "outputs": [],
   "source": []
  },
  {
   "cell_type": "markdown",
   "id": "03c3b871-00d8-423b-ad59-18ea0c534bef",
   "metadata": {},
   "source": [
    "### Create a Python program that determines the grade of a student based on their score using if-else."
   ]
  },
  {
   "cell_type": "code",
   "execution_count": 3,
   "id": "c25c74ff-7b80-426d-96e7-140a495476dc",
   "metadata": {},
   "outputs": [
    {
     "name": "stdin",
     "output_type": "stream",
     "text": [
      "Enter Marks 95\n"
     ]
    },
    {
     "name": "stdout",
     "output_type": "stream",
     "text": [
      "Your grade is : A\n"
     ]
    }
   ],
   "source": [
    "def given(marks):\n",
    "    if marks > 90:\n",
    "        return \"A\"\n",
    "    elif 80 < marks < 90:\n",
    "        return \"B\"\n",
    "    elif 70 < marks < 80:\n",
    "        return \"C\"\n",
    "    else:\n",
    "        return \"D\"\n",
    "    \n",
    "marks = int(input(\"Enter Marks\"))\n",
    "\n",
    "grade = given(marks)\n",
    "\n",
    "print(f\"Your grade is : {grade}\")"
   ]
  },
  {
   "cell_type": "code",
   "execution_count": null,
   "id": "1cddb3d3-c242-4445-95c7-f6f9d4b819cb",
   "metadata": {},
   "outputs": [],
   "source": []
  },
  {
   "cell_type": "markdown",
   "id": "97dc4c67-b97a-4d60-9ab5-a7e426e1254f",
   "metadata": {},
   "source": [
    "### Write a Python program to check if a string is empty or not using if-else."
   ]
  },
  {
   "cell_type": "code",
   "execution_count": 4,
   "id": "1da642f3-12ff-4712-a453-e16dd4faf7d9",
   "metadata": {},
   "outputs": [
    {
     "name": "stdin",
     "output_type": "stream",
     "text": [
      "Enter a string:  hello\n"
     ]
    },
    {
     "name": "stdout",
     "output_type": "stream",
     "text": [
      "The string is not empty: 'hello'\n"
     ]
    }
   ],
   "source": [
    "# Function to check if a string is empty or not\n",
    "def is_empty_string(string):\n",
    "    if string == \"\":\n",
    "        return True\n",
    "    else:\n",
    "        return False\n",
    "\n",
    "# Input from the user\n",
    "user_input = input(\"Enter a string: \")\n",
    "\n",
    "# Checking if the string is empty\n",
    "if is_empty_string(user_input):\n",
    "    print(\"The string is empty.\")\n",
    "else:\n",
    "    print(f\"The string is not empty: '{user_input}'\")\n"
   ]
  },
  {
   "cell_type": "code",
   "execution_count": null,
   "id": "73973028-5ecf-499a-b1f8-c4f9f258c161",
   "metadata": {},
   "outputs": [],
   "source": []
  },
  {
   "cell_type": "markdown",
   "id": "cd61740c-b3ed-4138-8114-a62e9f94acc6",
   "metadata": {},
   "source": [
    "### Create a Python program that identifies the type of a triangle (e.g., equilateral, isosceles, or scalene) based on input values using if-else."
   ]
  },
  {
   "cell_type": "code",
   "execution_count": 5,
   "id": "fc3d21bd-ed55-4a22-afa7-a6245957c030",
   "metadata": {},
   "outputs": [
    {
     "name": "stdin",
     "output_type": "stream",
     "text": [
      "Enter the length of the first side:  12\n",
      "Enter the length of the second side:  12\n",
      "Enter the length of the third side:  12\n"
     ]
    },
    {
     "name": "stdout",
     "output_type": "stream",
     "text": [
      "The triangle with sides 12.0, 12.0, and 12.0 is equilateral.\n"
     ]
    }
   ],
   "source": [
    "# Function to identify the type of triangle\n",
    "def identify_triangle(a, b, c):\n",
    "    if a == b == c:\n",
    "        return \"equilateral\"\n",
    "    elif a == b or b == c or a == c:\n",
    "        return \"isosceles\"\n",
    "    else:\n",
    "        return \"scalene\"\n",
    "\n",
    "# Input from the user\n",
    "side1 = float(input(\"Enter the length of the first side: \"))\n",
    "side2 = float(input(\"Enter the length of the second side: \"))\n",
    "side3 = float(input(\"Enter the length of the third side: \"))\n",
    "\n",
    "# Checking if the input lengths can form a valid triangle\n",
    "if side1 + side2 > side3 and side2 + side3 > side1 and side1 + side3 > side2:\n",
    "    # Identifying the type of triangle\n",
    "    triangle_type = identify_triangle(side1, side2, side3)\n",
    "    print(f\"The triangle with sides {side1}, {side2}, and {side3} is {triangle_type}.\")\n",
    "else:\n",
    "    print(\"The entered lengths do not form a valid triangle.\")\n"
   ]
  },
  {
   "cell_type": "code",
   "execution_count": null,
   "id": "aa161fba-6f10-4206-9cfe-0766c577ab6f",
   "metadata": {},
   "outputs": [],
   "source": []
  },
  {
   "cell_type": "markdown",
   "id": "e977415e-4214-4455-bbd7-5de156d89248",
   "metadata": {},
   "source": [
    "### Write a Python program to determine the day of the week based on a user-provided number using if-else."
   ]
  },
  {
   "cell_type": "code",
   "execution_count": 2,
   "id": "4b7db08a-e0e2-4287-b00e-b79f67636a51",
   "metadata": {},
   "outputs": [
    {
     "name": "stdin",
     "output_type": "stream",
     "text": [
      "Enter a number :  1\n"
     ]
    },
    {
     "name": "stdout",
     "output_type": "stream",
     "text": [
      "The day is Monday\n"
     ]
    }
   ],
   "source": [
    "def determine_day(number):\n",
    "    if number == 1:\n",
    "        return \"Monday\"\n",
    "    elif number == 2:\n",
    "        return \"Tuesday\"\n",
    "    elif number == 3:\n",
    "        return \"Wednesday\"\n",
    "    elif number == 4:\n",
    "        return \"Thursday\"\n",
    "    elif number == 5:\n",
    "        return \"Friday\"\n",
    "    elif number == 6:\n",
    "        return \"Saturday\"\n",
    "    elif number == 7 :\n",
    "        return \"Sunday\"\n",
    "    else:\n",
    "        return \"None\"\n",
    "\n",
    "\n",
    "number = int(input(\"Enter a number : \"))\n",
    "\n",
    "check = determine_day(number)\n",
    "\n",
    "print(f\"The day is {check}\")\n",
    "    "
   ]
  },
  {
   "cell_type": "code",
   "execution_count": null,
   "id": "c96a78e5-c118-4928-8640-7cb7929c9f07",
   "metadata": {},
   "outputs": [],
   "source": []
  },
  {
   "cell_type": "markdown",
   "id": "9445956c-eed2-48eb-8d3c-f3a9f1778eaf",
   "metadata": {},
   "source": [
    "### Create a Python program that checks if a given year is a leap year using both if-else and a function."
   ]
  },
  {
   "cell_type": "code",
   "execution_count": 3,
   "id": "e456391a-4340-4d2b-a81a-2456e6f58a0a",
   "metadata": {},
   "outputs": [
    {
     "name": "stdin",
     "output_type": "stream",
     "text": [
      "Enter a year to check if it is a leap year:  2000\n"
     ]
    },
    {
     "name": "stdout",
     "output_type": "stream",
     "text": [
      "2000 is a leap year.\n"
     ]
    }
   ],
   "source": [
    "# Function to check if a year is a leap year\n",
    "def is_leap_year(year):\n",
    "    if (year % 4 == 0 and year % 100 != 0) or (year % 400 == 0):\n",
    "        return True\n",
    "    else:\n",
    "        return False\n",
    "\n",
    "# Input from the user\n",
    "year = int(input(\"Enter a year to check if it is a leap year: \"))\n",
    "\n",
    "# Checking if the year is a leap year\n",
    "if is_leap_year(year):\n",
    "    print(f\"{year} is a leap year.\")\n",
    "else:\n",
    "    print(f\"{year} is not a leap year.\")\n"
   ]
  },
  {
   "cell_type": "code",
   "execution_count": null,
   "id": "33b520fd-4271-4549-9ee2-3069923f8a99",
   "metadata": {},
   "outputs": [],
   "source": []
  },
  {
   "cell_type": "markdown",
   "id": "e94b8e6b-f3c7-4246-82af-48637c411c9b",
   "metadata": {},
   "source": [
    "### How do you use the \"assert\" statement in Python to add debugging checks within if-else blocks?"
   ]
  },
  {
   "cell_type": "code",
   "execution_count": 4,
   "id": "61cdc039-3c8e-4f86-9b0a-0e7a9c4fd7dd",
   "metadata": {},
   "outputs": [
    {
     "name": "stdout",
     "output_type": "stream",
     "text": [
      "5\n",
      "8\n"
     ]
    }
   ],
   "source": [
    "def absolute_value(number):\n",
    "    if number < 0:\n",
    "        result = -number\n",
    "    else:\n",
    "        result = number\n",
    "    \n",
    "    # Assertion to check if the result is non-negative\n",
    "    assert result >= 0, f\"Expected non-negative result, but got {result}\"\n",
    "\n",
    "    return result\n",
    "\n",
    "# Test cases\n",
    "print(absolute_value(5))   # Output: 5\n",
    "print(absolute_value(-8))  # Output: 8\n"
   ]
  },
  {
   "cell_type": "code",
   "execution_count": null,
   "id": "c1e6f5f8-e2fb-4ecb-9b26-19abaf80fe1d",
   "metadata": {},
   "outputs": [],
   "source": []
  },
  {
   "cell_type": "markdown",
   "id": "3e284f40-d60b-4f75-b8ea-5612ee2c4510",
   "metadata": {},
   "source": [
    "### Create a Python program that determines the eligibility of a person for a senior citizen discount based on age using if-else."
   ]
  },
  {
   "cell_type": "code",
   "execution_count": null,
   "id": "84286006-5112-4332-888e-9de68f97acfc",
   "metadata": {},
   "outputs": [],
   "source": [
    "# Function to determine eligibility for senior citizen discount\n",
    "def check_senior_citizen(age):\n",
    "    if age >= 60:\n",
    "        return True\n",
    "    else:\n",
    "        return False\n",
    "\n",
    "# Input from the user\n",
    "age = int(input(\"Enter your age to check eligibility for senior citizen discount: \"))\n",
    "\n",
    "# Checking eligibility\n",
    "if check_senior_citizen(age):\n",
    "    print(\"Congratulations! You are eligible for a senior citizen discount.\")\n",
    "else:\n",
    "    print(\"Sorry, you are not eligible for a senior citizen discount yet.\")\n"
   ]
  },
  {
   "cell_type": "code",
   "execution_count": null,
   "id": "228bae33-0797-4ca1-9662-01c5158e436b",
   "metadata": {},
   "outputs": [],
   "source": []
  },
  {
   "cell_type": "markdown",
   "id": "32f0d641-9dea-4cd9-96c8-f62b4fe27e42",
   "metadata": {},
   "source": [
    "### Write a Python program to categorize a given character as uppercase, lowercase, or neither using if-else."
   ]
  },
  {
   "cell_type": "code",
   "execution_count": 6,
   "id": "9bb2f199-c40c-43c3-8ccb-3e55b2d333e8",
   "metadata": {},
   "outputs": [
    {
     "name": "stdin",
     "output_type": "stream",
     "text": [
      "Enter a character:  c\n"
     ]
    },
    {
     "name": "stdout",
     "output_type": "stream",
     "text": [
      "The character 'c' is lowercase.\n"
     ]
    }
   ],
   "source": [
    "# Function to categorize a character as uppercase, lowercase, or neither\n",
    "def categorize_character(char):\n",
    "    if 'A' <= char <= 'Z':\n",
    "        return \"uppercase\"\n",
    "    elif 'a' <= char <= 'z':\n",
    "        return \"lowercase\"\n",
    "    else:\n",
    "        return \"neither uppercase nor lowercase\"\n",
    "\n",
    "# Input from the user\n",
    "character = input(\"Enter a character: \")\n",
    "\n",
    "# Checking and categorizing the character\n",
    "category = categorize_character(character)\n",
    "\n",
    "# Displaying the result\n",
    "print(f\"The character '{character}' is {category}.\")\n"
   ]
  },
  {
   "cell_type": "code",
   "execution_count": null,
   "id": "c0d3da86-15ee-4fc0-8eb7-fbd0d658ce09",
   "metadata": {},
   "outputs": [],
   "source": []
  },
  {
   "cell_type": "markdown",
   "id": "65eb2e50-f74e-4db0-8fbd-68fb56023b7c",
   "metadata": {},
   "source": [
    "### Write a Python program to determine the roots of a quadratic equation using if-else."
   ]
  },
  {
   "cell_type": "code",
   "execution_count": 7,
   "id": "3ae7b76f-9fd1-4dd9-9f11-ffa7bb19e264",
   "metadata": {},
   "outputs": [
    {
     "name": "stdin",
     "output_type": "stream",
     "text": [
      "Enter coefficient a:  12\n",
      "Enter coefficient b:  14\n",
      "Enter coefficient c:  15\n"
     ]
    },
    {
     "name": "stdout",
     "output_type": "stream",
     "text": [
      "The roots are complex:\n",
      "Root 1: (-0.5833333333333334+0.9537935951882998j)\n",
      "Root 2: (-0.5833333333333334-0.9537935951882998j)\n"
     ]
    }
   ],
   "source": [
    "import math\n",
    "\n",
    "# Function to calculate the roots of a quadratic equation\n",
    "def calculate_roots(a, b, c):\n",
    "    # Calculate the discriminant\n",
    "    discriminant = b**2 - 4*a*c\n",
    "    \n",
    "    # Determine the nature of roots based on discriminant\n",
    "    if discriminant > 0:\n",
    "        # Two distinct real roots\n",
    "        root1 = (-b + math.sqrt(discriminant)) / (2*a)\n",
    "        root2 = (-b - math.sqrt(discriminant)) / (2*a)\n",
    "        return root1, root2\n",
    "    elif discriminant == 0:\n",
    "        # One real root (repeated root)\n",
    "        root = -b / (2*a)\n",
    "        return root, root\n",
    "    else:\n",
    "        # Two complex roots\n",
    "        real_part = -b / (2*a)\n",
    "        imaginary_part = math.sqrt(abs(discriminant)) / (2*a)\n",
    "        root1 = complex(real_part, imaginary_part)\n",
    "        root2 = complex(real_part, -imaginary_part)\n",
    "        return root1, root2\n",
    "\n",
    "# Input coefficients from the user\n",
    "a = float(input(\"Enter coefficient a: \"))\n",
    "b = float(input(\"Enter coefficient b: \"))\n",
    "c = float(input(\"Enter coefficient c: \"))\n",
    "\n",
    "# Calculate roots\n",
    "roots = calculate_roots(a, b, c)\n",
    "\n",
    "# Display the roots\n",
    "if isinstance(roots[0], complex):\n",
    "    print(f\"The roots are complex:\")\n",
    "    print(f\"Root 1: {roots[0]}\")\n",
    "    print(f\"Root 2: {roots[1]}\")\n",
    "else:\n",
    "    print(f\"The roots are real:\")\n",
    "    print(f\"Root 1: {roots[0]}\")\n",
    "    print(f\"Root 2: {roots[1]}\")\n"
   ]
  },
  {
   "cell_type": "code",
   "execution_count": null,
   "id": "e10084d6-bc45-4c74-bd50-9116d7ddbce3",
   "metadata": {},
   "outputs": [],
   "source": []
  },
  {
   "cell_type": "markdown",
   "id": "1547b23e-cc7e-47f2-8920-07c2a0da95a4",
   "metadata": {},
   "source": [
    "### Create a Python program that checks if a given year is a century year or not using if-else."
   ]
  },
  {
   "cell_type": "code",
   "execution_count": 8,
   "id": "11d17a8f-f5ea-4e26-94d0-5685befa9ee2",
   "metadata": {},
   "outputs": [
    {
     "name": "stdin",
     "output_type": "stream",
     "text": [
      "Enter a year to check if it is a century year:  2500\n"
     ]
    },
    {
     "name": "stdout",
     "output_type": "stream",
     "text": [
      "2500 is not a century year.\n"
     ]
    }
   ],
   "source": [
    "# Function to check if a year is a century year\n",
    "def is_century_year(year):\n",
    "    if year % 100 == 0:\n",
    "        if year % 400 == 0:\n",
    "            return True  # Divisible by both 100 and 400, hence a century year\n",
    "        else:\n",
    "            return False  # Divisible by 100 but not by 400, hence not a century year\n",
    "    else:\n",
    "        return False  # Not divisible by 100, hence not a century year\n",
    "\n",
    "# Input from the user\n",
    "year = int(input(\"Enter a year to check if it is a century year: \"))\n",
    "\n",
    "# Checking if the year is a century year\n",
    "if is_century_year(year):\n",
    "    print(f\"{year} is a century year.\")\n",
    "else:\n",
    "    print(f\"{year} is not a century year.\")\n"
   ]
  },
  {
   "cell_type": "code",
   "execution_count": null,
   "id": "45981bd8-710e-4eb6-895b-17b516086b1e",
   "metadata": {},
   "outputs": [],
   "source": []
  },
  {
   "cell_type": "markdown",
   "id": "847465ed-cf87-4b84-810a-0e239eb71474",
   "metadata": {},
   "source": [
    "### Write a Python program to determine if a given number is a perfect square using if-else."
   ]
  },
  {
   "cell_type": "code",
   "execution_count": 9,
   "id": "540336d6-afe3-4a0f-a37c-f36dc8f3bb69",
   "metadata": {},
   "outputs": [
    {
     "name": "stdin",
     "output_type": "stream",
     "text": [
      "Enter a number to check if it is a perfect square:  25\n"
     ]
    },
    {
     "name": "stdout",
     "output_type": "stream",
     "text": [
      "25 is a perfect square.\n"
     ]
    }
   ],
   "source": [
    "import math\n",
    "\n",
    "# Function to check if a number is a perfect square\n",
    "def is_perfect_square(number):\n",
    "    # Calculate the square root of the number\n",
    "    sqrt = math.sqrt(number)\n",
    "    \n",
    "    # Check if the square root is an integer\n",
    "    if sqrt.is_integer():\n",
    "        return True\n",
    "    else:\n",
    "        return False\n",
    "\n",
    "# Input from the user\n",
    "number = int(input(\"Enter a number to check if it is a perfect square: \"))\n",
    "\n",
    "# Checking if the number is a perfect square\n",
    "if is_perfect_square(number):\n",
    "    print(f\"{number} is a perfect square.\")\n",
    "else:\n",
    "    print(f\"{number} is not a perfect square.\")\n"
   ]
  },
  {
   "cell_type": "code",
   "execution_count": null,
   "id": "b7d5fcd1-39ca-4fce-9e14-3d7f88a10e89",
   "metadata": {},
   "outputs": [],
   "source": []
  },
  {
   "cell_type": "markdown",
   "id": "2aeba285-54ac-4673-bf83-49e028ae6f81",
   "metadata": {},
   "source": [
    "### Explain the purpose of the \"continue\" and \"break\" statements within if-else loops."
   ]
  },
  {
   "cell_type": "code",
   "execution_count": 10,
   "id": "f01afc11-2a24-4050-9fa2-30180d843abc",
   "metadata": {},
   "outputs": [
    {
     "name": "stdout",
     "output_type": "stream",
     "text": [
      "1\n",
      "3\n",
      "5\n",
      "7\n",
      "9\n"
     ]
    }
   ],
   "source": [
    "# Example: Skip even numbers in a loop\n",
    "for i in range(1, 11):\n",
    "    if i % 2 == 0:\n",
    "        continue  # Skip even numbers\n",
    "    print(i)\n"
   ]
  },
  {
   "cell_type": "code",
   "execution_count": null,
   "id": "79c9c214-667a-4e12-84f0-cab6b68363c9",
   "metadata": {},
   "outputs": [],
   "source": []
  },
  {
   "cell_type": "markdown",
   "id": "79003315-9f86-4687-a069-3180e3dd7110",
   "metadata": {},
   "source": [
    "### Create a Python program that calculates the BMI (Body Mass Index) of a person based on their weight and height using if-else."
   ]
  },
  {
   "cell_type": "code",
   "execution_count": 11,
   "id": "cbd6c079-fdef-42e0-88ea-c2a7475102cd",
   "metadata": {},
   "outputs": [
    {
     "name": "stdin",
     "output_type": "stream",
     "text": [
      "Enter your weight in kilograms:  50\n",
      "Enter your height in centimeters:  175\n"
     ]
    },
    {
     "name": "stdout",
     "output_type": "stream",
     "text": [
      "Your BMI is: 16.33\n",
      "You are categorized as: underweight\n"
     ]
    }
   ],
   "source": [
    "# Function to calculate BMI\n",
    "def calculate_bmi(weight, height):\n",
    "    # Convert height from cm to meters\n",
    "    height_m = height / 100\n",
    "    \n",
    "    # Calculate BMI\n",
    "    bmi = weight / (height_m ** 2)\n",
    "    \n",
    "    return bmi\n",
    "\n",
    "# Input from the user\n",
    "weight = float(input(\"Enter your weight in kilograms: \"))\n",
    "height = float(input(\"Enter your height in centimeters: \"))\n",
    "\n",
    "# Calculate BMI\n",
    "bmi = calculate_bmi(weight, height)\n",
    "\n",
    "# Determine BMI category\n",
    "if bmi < 18.5:\n",
    "    category = \"underweight\"\n",
    "elif bmi >= 18.5 and bmi < 25:\n",
    "    category = \"normal weight\"\n",
    "elif bmi >= 25 and bmi < 30:\n",
    "    category = \"overweight\"\n",
    "else:\n",
    "    category = \"obese\"\n",
    "\n",
    "# Display the result\n",
    "print(f\"Your BMI is: {bmi:.2f}\")\n",
    "print(f\"You are categorized as: {category}\")\n"
   ]
  },
  {
   "cell_type": "code",
   "execution_count": null,
   "id": "708217a5-63ae-4fed-9b7b-3c51268af00f",
   "metadata": {},
   "outputs": [],
   "source": []
  },
  {
   "cell_type": "markdown",
   "id": "715afa89-a940-4422-8a94-e52e13db2156",
   "metadata": {},
   "source": [
    "### How can you use the \"filter()\" function with if-else statements to filter elements from a list?"
   ]
  },
  {
   "cell_type": "code",
   "execution_count": 12,
   "id": "baeae176-872a-406b-af49-56a72843a698",
   "metadata": {},
   "outputs": [
    {
     "name": "stdout",
     "output_type": "stream",
     "text": [
      "Original list: [1, 2, 3, 4, 5, 6, 7, 8, 9, 10]\n",
      "Filtered even numbers: [2, 4, 6, 8, 10]\n"
     ]
    }
   ],
   "source": [
    "# Example list\n",
    "numbers = [1, 2, 3, 4, 5, 6, 7, 8, 9, 10]\n",
    "\n",
    "# Using filter() with lambda and if-else to filter even numbers\n",
    "filtered_even = filter(lambda x: x % 2 == 0, numbers)\n",
    "\n",
    "# Convert filtered_even to a list (filter() returns an iterator)\n",
    "even_numbers = list(filtered_even)\n",
    "\n",
    "print(\"Original list:\", numbers)\n",
    "print(\"Filtered even numbers:\", even_numbers)\n"
   ]
  },
  {
   "cell_type": "code",
   "execution_count": null,
   "id": "2d7bc2b7-ec12-4c01-b86f-2daeb620f65f",
   "metadata": {},
   "outputs": [],
   "source": []
  },
  {
   "cell_type": "markdown",
   "id": "88184de9-274f-44b2-b207-dffd47fce8ff",
   "metadata": {},
   "source": [
    "### Write a Python program to determine if a given number is prime or not using if-else."
   ]
  },
  {
   "cell_type": "code",
   "execution_count": null,
   "id": "ec6972f5-d9f8-47c6-9efe-339ad5d10abf",
   "metadata": {},
   "outputs": [
    {
     "name": "stdin",
     "output_type": "stream",
     "text": [
      "Enter a number to check if it is prime:  67\n"
     ]
    },
    {
     "name": "stdout",
     "output_type": "stream",
     "text": [
      "67 is a prime number.\n"
     ]
    }
   ],
   "source": [
    "# Function to check if a number is prime\n",
    "def is_prime(number):\n",
    "    # Check if number is less than or equal to 1\n",
    "    if number <= 1:\n",
    "        return False  # 0 and 1 are not prime numbers\n",
    "    \n",
    "    # Check for factors from 2 to sqrt(number)\n",
    "    for i in range(2, int(number**0.5) + 1):\n",
    "        if number % i == 0:\n",
    "            return False  # Found a factor, hence not a prime number\n",
    "    \n",
    "    return True  # If no factors found, it's a prime number\n",
    "\n",
    "# Input from the user\n",
    "number = int(input(\"Enter a number to check if it is prime: \"))\n",
    "\n",
    "# Checking if the number is prime\n",
    "if is_prime(number):\n",
    "    print(f\"{number} is a prime number.\")\n",
    "else:\n",
    "    print(f\"{number} is not a prime number.\")\n"
   ]
  },
  {
   "cell_type": "code",
   "execution_count": null,
   "id": "2208d26c-8234-4dc0-b7c2-ecabba52eb8c",
   "metadata": {},
   "outputs": [],
   "source": []
  },
  {
   "cell_type": "markdown",
   "id": "2f30ffd5-ff1d-4b12-b4eb-f0f235e364f3",
   "metadata": {},
   "source": [
    "## Map :-"
   ]
  },
  {
   "cell_type": "markdown",
   "id": "e85862ac-eca3-41e1-845d-8867310cc28c",
   "metadata": {},
   "source": [
    "### Explain the purpose of the `map()` function in Python and provide an example of how it can be used to apply a function to each element of an iterable."
   ]
  },
  {
   "cell_type": "code",
   "execution_count": 1,
   "id": "4f61ea9f-9a89-4164-b8f0-0ff88373a84a",
   "metadata": {},
   "outputs": [
    {
     "name": "stdout",
     "output_type": "stream",
     "text": [
      "<function cube at 0x7f0baac87400>\n",
      "[1, 8, 27, 64, 125, 216]\n"
     ]
    }
   ],
   "source": [
    "def cube(x):\n",
    "    return x*x*x\n",
    "\n",
    "print(cube)\n",
    "\n",
    "l = [1,2,3,4,5,6]\n",
    "\n",
    "newl = list(map(cube, l))\n",
    "\n",
    "print(newl)"
   ]
  },
  {
   "cell_type": "code",
   "execution_count": null,
   "id": "4a3b1b21-4646-4f6e-8121-ea32dbe1d562",
   "metadata": {},
   "outputs": [],
   "source": []
  },
  {
   "cell_type": "markdown",
   "id": "f3f42afc-43d4-45f2-b745-3d1eae8575aa",
   "metadata": {},
   "source": [
    "### Write a Python program that uses the `map()` function to square each element of a list of numbers."
   ]
  },
  {
   "cell_type": "code",
   "execution_count": 3,
   "id": "d9fc58ff-a424-47dc-9db7-49e7e9226031",
   "metadata": {},
   "outputs": [
    {
     "name": "stdout",
     "output_type": "stream",
     "text": [
      "<function square at 0x7f0baac87010>\n",
      "[1, 4, 9, 16, 25, 36, 49, 64, 81]\n"
     ]
    }
   ],
   "source": [
    "def square(x):\n",
    "    return x ** 2\n",
    "\n",
    "print(square)\n",
    "\n",
    "l = [1,2,3,4,5,6,7,8,9]\n",
    "\n",
    "newl = list(map(square, l))\n",
    "\n",
    "print(newl)"
   ]
  },
  {
   "cell_type": "code",
   "execution_count": null,
   "id": "cc00afa6-f051-404d-afd5-ca040d8c8107",
   "metadata": {},
   "outputs": [],
   "source": []
  },
  {
   "cell_type": "markdown",
   "id": "168556e6-b921-42ac-a289-609602328924",
   "metadata": {},
   "source": [
    "### Create a Python program that uses the `map()` function to convert a list of names to uppercase."
   ]
  },
  {
   "cell_type": "code",
   "execution_count": 4,
   "id": "db7a1874-d1f8-4bcb-9e7a-89b2a9e767b3",
   "metadata": {},
   "outputs": [
    {
     "name": "stdout",
     "output_type": "stream",
     "text": [
      "Original names: ['Alice', 'Bob', 'Charlie', 'David', 'Emma']\n",
      "Names in uppercase: ['ALICE', 'BOB', 'CHARLIE', 'DAVID', 'EMMA']\n"
     ]
    }
   ],
   "source": [
    "# List of names\n",
    "names = [\"Alice\", \"Bob\", \"Charlie\", \"David\", \"Emma\"]\n",
    "\n",
    "# Using map() with str.upper() to convert names to uppercase\n",
    "uppercased_names = list(map(str.upper, names))\n",
    "\n",
    "# Print the original list and the converted list\n",
    "print(\"Original names:\", names)\n",
    "print(\"Names in uppercase:\", uppercased_names)\n"
   ]
  },
  {
   "cell_type": "code",
   "execution_count": null,
   "id": "02408adb-c6c5-445d-bb41-7c37e4b8fee3",
   "metadata": {},
   "outputs": [],
   "source": []
  },
  {
   "cell_type": "markdown",
   "id": "4a69118d-2826-4c5a-9860-8cc7218a4271",
   "metadata": {},
   "source": [
    "### Write a Python program that uses the `map()` function to calculate the length of each word in a list of strings."
   ]
  },
  {
   "cell_type": "code",
   "execution_count": 5,
   "id": "aff5c607-a5b1-49f8-9d97-fac6e677adbc",
   "metadata": {},
   "outputs": [
    {
     "name": "stdout",
     "output_type": "stream",
     "text": [
      "Original words: ['apple', 'banana', 'cherry', 'date', 'elderberry']\n",
      "Length of each word: [5, 6, 6, 4, 10]\n"
     ]
    }
   ],
   "source": [
    "# List of strings\n",
    "words = [\"apple\", \"banana\", \"cherry\", \"date\", \"elderberry\"]\n",
    "\n",
    "# Using map() with len() to calculate the length of each word\n",
    "word_lengths = list(map(len, words))\n",
    "\n",
    "# Print the original list and the lengths\n",
    "print(\"Original words:\", words)\n",
    "print(\"Length of each word:\", word_lengths)\n"
   ]
  },
  {
   "cell_type": "code",
   "execution_count": null,
   "id": "86c0843b-0469-4e22-bf00-43cfa2ce3dce",
   "metadata": {},
   "outputs": [],
   "source": []
  },
  {
   "cell_type": "markdown",
   "id": "0e00c744-7256-4a8e-9e9b-4b1b67225140",
   "metadata": {},
   "source": [
    "### How can you use the `map()` function to apply a custom function to elements of multiple lists simultaneously in Python?"
   ]
  },
  {
   "cell_type": "code",
   "execution_count": 6,
   "id": "e38722d6-2f93-4585-bd98-4d60cf2e9c56",
   "metadata": {},
   "outputs": [
    {
     "name": "stdout",
     "output_type": "stream",
     "text": [
      "List 1: [1, 2, 3, 4, 5]\n",
      "List 2: [10, 20, 30, 40, 50]\n",
      "Sums of corresponding elements: [11, 22, 33, 44, 55]\n"
     ]
    }
   ],
   "source": [
    "# Define a custom function to calculate the sum of two numbers\n",
    "def calculate_sum(x, y):\n",
    "    return x + y\n",
    "\n",
    "# Example lists\n",
    "list1 = [1, 2, 3, 4, 5]\n",
    "list2 = [10, 20, 30, 40, 50]\n",
    "\n",
    "# Using map() to apply the custom function to corresponding elements\n",
    "sums = list(map(calculate_sum, list1, list2))\n",
    "\n",
    "# Print the original lists and the resulting sums\n",
    "print(\"List 1:\", list1)\n",
    "print(\"List 2:\", list2)\n",
    "print(\"Sums of corresponding elements:\", sums)\n"
   ]
  },
  {
   "cell_type": "code",
   "execution_count": null,
   "id": "34304604-4df9-4471-88c1-243d24c2c02a",
   "metadata": {},
   "outputs": [],
   "source": []
  },
  {
   "cell_type": "markdown",
   "id": "3a53ea78-7f3c-4fbd-8714-f02748dfedf5",
   "metadata": {},
   "source": [
    "### Create a Python program that uses `map()` to convert a list of temperatures from Celsius to Fahrenheit."
   ]
  },
  {
   "cell_type": "code",
   "execution_count": 7,
   "id": "67d791e6-38bf-4fa7-a6e7-38246524c9e4",
   "metadata": {},
   "outputs": [
    {
     "name": "stdout",
     "output_type": "stream",
     "text": [
      "Temperatures in Celsius: [0, 10, 20, 30, 40]\n",
      "Temperatures in Fahrenheit: [32.0, 50.0, 68.0, 86.0, 104.0]\n"
     ]
    }
   ],
   "source": [
    "# Function to convert Celsius to Fahrenheit\n",
    "def celsius_to_fahrenheit(celsius):\n",
    "    return (celsius * 9/5) + 32\n",
    "\n",
    "# List of temperatures in Celsius\n",
    "temperatures_celsius = [0, 10, 20, 30, 40]\n",
    "\n",
    "# Using map() to apply the conversion function to each temperature\n",
    "temperatures_fahrenheit = list(map(celsius_to_fahrenheit, temperatures_celsius))\n",
    "\n",
    "# Print the original list and the converted temperatures\n",
    "print(\"Temperatures in Celsius:\", temperatures_celsius)\n",
    "print(\"Temperatures in Fahrenheit:\", temperatures_fahrenheit)\n"
   ]
  },
  {
   "cell_type": "code",
   "execution_count": null,
   "id": "11ec057b-b99f-482d-a4ec-7212d7d8b483",
   "metadata": {},
   "outputs": [],
   "source": []
  },
  {
   "cell_type": "markdown",
   "id": "88bdda41-66b9-4c1f-8a86-8afd0622af8c",
   "metadata": {},
   "source": [
    "### Write a Python program that uses the `map()` function to round each element of a list of floating-point numbers to the nearest integer."
   ]
  },
  {
   "cell_type": "code",
   "execution_count": 8,
   "id": "4536f2fd-115c-47e9-8f10-d5e93e3dbba3",
   "metadata": {},
   "outputs": [
    {
     "name": "stdout",
     "output_type": "stream",
     "text": [
      "Original numbers: [3.14, 1.618, 2.718, 0.577, 4.669]\n",
      "Rounded numbers: [3, 2, 3, 1, 5]\n"
     ]
    }
   ],
   "source": [
    "# List of floating-point numbers\n",
    "numbers = [3.14, 1.618, 2.718, 0.577, 4.669]\n",
    "\n",
    "# Using map() with round() to round each number to the nearest integer\n",
    "rounded_numbers = list(map(round, numbers))\n",
    "\n",
    "# Print the original list and the rounded numbers\n",
    "print(\"Original numbers:\", numbers)\n",
    "print(\"Rounded numbers:\", rounded_numbers)\n"
   ]
  },
  {
   "cell_type": "code",
   "execution_count": null,
   "id": "cdc65440-798a-40c7-9d8f-ef357b12e7f4",
   "metadata": {},
   "outputs": [],
   "source": []
  },
  {
   "cell_type": "markdown",
   "id": "78ab763e-ddf0-46d5-9c2a-6e85eb177d05",
   "metadata": {},
   "source": [
    "## reduce"
   ]
  },
  {
   "cell_type": "markdown",
   "id": "cf7e74b0-9c58-4c26-aaf5-c2d50108b3e5",
   "metadata": {},
   "source": [
    "### What is the `reduce()` function in Python, and what module should you import to use it? Provide an example of its basic usage."
   ]
  },
  {
   "cell_type": "code",
   "execution_count": 9,
   "id": "e68138a6-aae9-441e-afa6-d7a3fb38b3f3",
   "metadata": {},
   "outputs": [
    {
     "name": "stdout",
     "output_type": "stream",
     "text": [
      "Original list: [1, 2, 3, 4, 5]\n",
      "Sum of elements using reduce(): 15\n"
     ]
    }
   ],
   "source": [
    "from functools import reduce\n",
    "\n",
    "# List of numbers\n",
    "numbers = [1, 2, 3, 4, 5]\n",
    "\n",
    "# Using reduce() to compute the sum of elements\n",
    "sum_result = reduce(lambda x, y: x + y, numbers)\n",
    "\n",
    "# Print the original list and the result\n",
    "print(\"Original list:\", numbers)\n",
    "print(\"Sum of elements using reduce():\", sum_result)\n"
   ]
  },
  {
   "cell_type": "code",
   "execution_count": 10,
   "id": "82569214-5633-4936-a4da-943bfcca7cf3",
   "metadata": {},
   "outputs": [
    {
     "name": "stdout",
     "output_type": "stream",
     "text": [
      "32\n"
     ]
    }
   ],
   "source": [
    "from functools import reduce\n",
    "def mysum(x,y):\n",
    "    return x+y\n",
    "numbers = [1,2,4,3,4,5,6,7]\n",
    "\n",
    "sum = reduce(mysum, numbers)\n",
    "print(sum)"
   ]
  },
  {
   "cell_type": "code",
   "execution_count": null,
   "id": "29535946-6c15-4375-8b14-b26ffecb7f86",
   "metadata": {},
   "outputs": [],
   "source": []
  },
  {
   "cell_type": "markdown",
   "id": "7bdcbf8a-e66b-4caf-81e2-ab7663742c44",
   "metadata": {},
   "source": [
    "### Write a Python program that uses the `reduce()` function to find the product of all elements in a list."
   ]
  },
  {
   "cell_type": "code",
   "execution_count": 1,
   "id": "bba5ae7d-12b0-4c63-8252-22c8ac9bb07b",
   "metadata": {},
   "outputs": [
    {
     "name": "stdout",
     "output_type": "stream",
     "text": [
      "The product of all elements in the list [1, 2, 3, 4, 5] is: 120\n"
     ]
    }
   ],
   "source": [
    "from functools import reduce\n",
    "\n",
    "def multiply(x, y):\n",
    "    return x * y\n",
    "\n",
    "def product_of_list(numbers):\n",
    "    return reduce(multiply, numbers)\n",
    "\n",
    "# Example usage:\n",
    "num_list = [1, 2, 3, 4, 5]\n",
    "result = product_of_list(num_list)\n",
    "print(f\"The product of all elements in the list {num_list} is: {result}\")\n"
   ]
  },
  {
   "cell_type": "code",
   "execution_count": null,
   "id": "c11e3240-cc01-4280-9705-8fddc4bdf6c0",
   "metadata": {},
   "outputs": [],
   "source": []
  },
  {
   "cell_type": "code",
   "execution_count": 2,
   "id": "f620c54d-1d4f-47ec-91f9-45dddd2ace3d",
   "metadata": {},
   "outputs": [
    {
     "name": "stdout",
     "output_type": "stream",
     "text": [
      "The maximum element in the list [3, 8, 1, 6, 2, 9, 4] is: 9\n"
     ]
    }
   ],
   "source": [
    "from functools import reduce\n",
    "\n",
    "def find_max(x,y):\n",
    "    return x if x > y else y\n",
    "\n",
    "def max_list(numbers):\n",
    "    return reduce(find_max, numbers)\n",
    "\n",
    "num_list = [3, 8, 1, 6, 2, 9, 4]\n",
    "result = max_list(num_list)\n",
    "print(f\"The maximum element in the list {num_list} is: {result}\")"
   ]
  },
  {
   "cell_type": "code",
   "execution_count": null,
   "id": "355e8195-cf2d-43ba-bdbb-486a6873d9e0",
   "metadata": {},
   "outputs": [],
   "source": []
  },
  {
   "cell_type": "markdown",
   "id": "8f1be8ef-d16d-4d05-bdaa-8b8257cc32d9",
   "metadata": {},
   "source": [
    "### How can you use the `reduce()` function to concatenate a list of strings into a single string?"
   ]
  },
  {
   "cell_type": "code",
   "execution_count": 3,
   "id": "b32f034f-38e6-4afb-9d60-1a3e27c9f39f",
   "metadata": {},
   "outputs": [
    {
     "name": "stdout",
     "output_type": "stream",
     "text": [
      "The concatenated string is: Hello, world!\n"
     ]
    }
   ],
   "source": [
    "from functools import reduce\n",
    "\n",
    "def concatenate_strings(x, y):\n",
    "    return x + y\n",
    "\n",
    "def concatenate_list_of_strings(str_list):\n",
    "    return reduce(concatenate_strings, str_list, \"\")\n",
    "\n",
    "# Example usage:\n",
    "string_list = [\"Hello\", \", \", \"world\", \"!\"]\n",
    "result = concatenate_list_of_strings(string_list)\n",
    "print(f\"The concatenated string is: {result}\")\n"
   ]
  },
  {
   "cell_type": "code",
   "execution_count": null,
   "id": "b076903a-40dc-463f-94c2-ee46a8ccc7d6",
   "metadata": {},
   "outputs": [],
   "source": []
  },
  {
   "cell_type": "markdown",
   "id": "1515e1ea-27c4-4ea7-bd4a-e6959f1a2bbe",
   "metadata": {},
   "source": [
    "### Write a Python program that calculates the factorial of a number using the `reduce()` function."
   ]
  },
  {
   "cell_type": "code",
   "execution_count": 4,
   "id": "8b614887-52ed-4da5-ab2b-0803b531dbfc",
   "metadata": {},
   "outputs": [
    {
     "name": "stdout",
     "output_type": "stream",
     "text": [
      "The factorial of 5 is: 120\n"
     ]
    }
   ],
   "source": [
    "from functools import reduce\n",
    "\n",
    "def multiply(x, y):\n",
    "    return x * y\n",
    "\n",
    "def factorial(n):\n",
    "    # Special case for factorial of 0\n",
    "    if n == 0:\n",
    "        return 1\n",
    "    # Using reduce to calculate factorial\n",
    "    return reduce(multiply, range(1, n+1))\n",
    "\n",
    "# Example usage:\n",
    "number = 5\n",
    "fact = factorial(number)\n",
    "print(f\"The factorial of {number} is: {fact}\")\n"
   ]
  },
  {
   "cell_type": "code",
   "execution_count": null,
   "id": "de29db3d-e956-4264-a9a6-0edee555a60f",
   "metadata": {},
   "outputs": [],
   "source": []
  },
  {
   "cell_type": "markdown",
   "id": "a7d08a37-3383-4b7e-9569-94974f749833",
   "metadata": {},
   "source": [
    "### Create a Python program that uses `reduce()` to find the GCD (Greatest Common Divisor) of a list of numbers."
   ]
  },
  {
   "cell_type": "code",
   "execution_count": 1,
   "id": "f1dbd9a9-05b4-4afd-8cab-f8de1d32f350",
   "metadata": {},
   "outputs": [
    {
     "name": "stdout",
     "output_type": "stream",
     "text": [
      "The GCD of the numbers [24, 36, 48, 60] is: 12\n"
     ]
    }
   ],
   "source": [
    "from functools import reduce\n",
    "from math import gcd\n",
    "\n",
    "def find_gcd(x, y):\n",
    "    return gcd(x, y)\n",
    "\n",
    "def gcd_of_list(numbers):\n",
    "    return reduce(find_gcd, numbers)\n",
    "\n",
    "# Example usage:\n",
    "num_list = [24, 36, 48, 60]\n",
    "result = gcd_of_list(num_list)\n",
    "print(f\"The GCD of the numbers {num_list} is: {result}\")\n"
   ]
  },
  {
   "cell_type": "code",
   "execution_count": null,
   "id": "0248fba6-5d82-4512-bc4c-5b86219802ca",
   "metadata": {},
   "outputs": [],
   "source": []
  },
  {
   "cell_type": "markdown",
   "id": "dcf264f6-d92e-4c5c-9361-dd5127884add",
   "metadata": {},
   "source": [
    "### Write a Python program that uses the `reduce()` function to find the sum of the digits of a given number."
   ]
  },
  {
   "cell_type": "code",
   "execution_count": 2,
   "id": "77c0a02c-e26f-4cbb-966b-8bbbfac7d6fd",
   "metadata": {},
   "outputs": [
    {
     "name": "stdout",
     "output_type": "stream",
     "text": [
      "The sum of digits of 12345 is: 15\n"
     ]
    }
   ],
   "source": [
    "from functools import reduce\n",
    "\n",
    "def sum_of_digits(x, y):\n",
    "    return int(x) + int(y)\n",
    "\n",
    "def sum_digits(number):\n",
    "    # Convert number to string to iterate over each digit\n",
    "    digits = str(number)\n",
    "    # Use reduce to calculate the sum of digits\n",
    "    return reduce(sum_of_digits, digits)\n",
    "\n",
    "# Example usage:\n",
    "num = 12345\n",
    "result = sum_digits(num)\n",
    "print(f\"The sum of digits of {num} is: {result}\")\n"
   ]
  },
  {
   "cell_type": "code",
   "execution_count": null,
   "id": "128b3f5c-ae11-41dc-9694-9e99bcab3d1d",
   "metadata": {},
   "outputs": [],
   "source": []
  },
  {
   "cell_type": "markdown",
   "id": "d93a7159-60e2-40a6-96c0-2fef7dcc56b2",
   "metadata": {},
   "source": [
    "## Filter :-"
   ]
  },
  {
   "cell_type": "markdown",
   "id": "6e44c776-1944-447c-9c32-f62095321b31",
   "metadata": {},
   "source": [
    "### Write a Python program that uses the `filter()` function to select even numbers from a list of integers."
   ]
  },
  {
   "cell_type": "code",
   "execution_count": 1,
   "id": "27793ca7-549d-4efb-a431-63765eedb2ea",
   "metadata": {},
   "outputs": [
    {
     "name": "stdout",
     "output_type": "stream",
     "text": [
      "[2, 4, 6, 8]\n"
     ]
    }
   ],
   "source": [
    "def is_even(num):\n",
    "    return num % 2 == 0\n",
    "\n",
    "numbers = [1,2,3,4,5,6,7,8,9]\n",
    "\n",
    "even_num = filter(is_even,numbers)\n",
    "\n",
    "even_number_list = list(even_num)\n",
    "print(even_number_list)\n",
    "    "
   ]
  },
  {
   "cell_type": "code",
   "execution_count": null,
   "id": "0e244fe6-d260-4d38-9a7f-709026891cae",
   "metadata": {},
   "outputs": [],
   "source": []
  },
  {
   "cell_type": "markdown",
   "id": "f2736e41-0b56-4e73-98a6-1013089e228b",
   "metadata": {},
   "source": [
    "### Create a Python program that uses the `filter()` function to select names that start with a specific letter from a list of strings"
   ]
  },
  {
   "cell_type": "code",
   "execution_count": 2,
   "id": "c71e0745-2dcf-4235-9a05-0f526b2887b6",
   "metadata": {},
   "outputs": [
    {
     "name": "stdout",
     "output_type": "stream",
     "text": [
      "Names starting with A: ['Alice']\n"
     ]
    }
   ],
   "source": [
    "# Define a function to check if a name starts with a specific letter\n",
    "def starts_with_letter(name, letter):\n",
    "    return name.startswith(letter)\n",
    "\n",
    "# List of names\n",
    "names = [\"Alice\", \"Bob\", \"Charlie\", \"David\", \"Eve\", \"Frank\"]\n",
    "\n",
    "# Specific letter to filter names by\n",
    "specific_letter = \"A\"\n",
    "\n",
    "# Use a lambda function with filter to pass the specific letter\n",
    "filtered_names = filter(lambda name: starts_with_letter(name, specific_letter), names)\n",
    "\n",
    "# Convert the result to a list and print it\n",
    "filtered_names_list = list(filtered_names)\n",
    "print(\"Names starting with\", specific_letter + \":\", filtered_names_list)\n"
   ]
  },
  {
   "cell_type": "code",
   "execution_count": null,
   "id": "450f7e83-aa53-4ad2-a851-2a1394c076bc",
   "metadata": {},
   "outputs": [],
   "source": []
  },
  {
   "cell_type": "markdown",
   "id": "03bdd1fd-4cf8-4c8b-aa3b-430078e70e1b",
   "metadata": {},
   "source": [
    "### Write a Python program that uses the `filter()` function to select prime numbers from a list of integers."
   ]
  },
  {
   "cell_type": "code",
   "execution_count": 3,
   "id": "75f76ce7-9372-4ab3-9835-54b27a6e20fa",
   "metadata": {},
   "outputs": [
    {
     "name": "stdout",
     "output_type": "stream",
     "text": [
      "Prime numbers: [2, 3, 5, 7, 11, 13, 17, 19]\n"
     ]
    }
   ],
   "source": [
    "# Define a function to check if a number is prime\n",
    "def is_prime(num):\n",
    "    if num <= 1:\n",
    "        return False\n",
    "    for i in range(2, int(num ** 0.5) + 1):\n",
    "        if num % i == 0:\n",
    "            return False\n",
    "    return True\n",
    "\n",
    "# List of integers\n",
    "numbers = [2, 3, 4, 5, 6, 7, 8, 9, 10, 11, 12, 13, 14, 15, 16, 17, 18, 19, 20]\n",
    "\n",
    "# Use the filter function to filter out prime numbers\n",
    "prime_numbers = filter(is_prime, numbers)\n",
    "\n",
    "# Convert the result to a list and print it\n",
    "prime_numbers_list = list(prime_numbers)\n",
    "print(\"Prime numbers:\", prime_numbers_list)\n"
   ]
  },
  {
   "cell_type": "code",
   "execution_count": null,
   "id": "6bb42084-dbe1-46e6-bdd9-c9f8423a23c6",
   "metadata": {},
   "outputs": [],
   "source": []
  },
  {
   "cell_type": "markdown",
   "id": "a16c7d1b-cef3-41fa-ba75-0fc27a3ba4b7",
   "metadata": {},
   "source": [
    "### Create a Python program that uses `filter()` to select words longer than a certain length from a list of strings."
   ]
  },
  {
   "cell_type": "code",
   "execution_count": 4,
   "id": "4fdc51ef-d254-4397-bbae-2ec0f23a7e00",
   "metadata": {},
   "outputs": [
    {
     "name": "stdout",
     "output_type": "stream",
     "text": [
      "Words longer than 4 characters: ['apple', 'banana', 'cherry', 'grape']\n"
     ]
    }
   ],
   "source": [
    "# Define a function to check if a word is longer than a certain length\n",
    "def longer_than(word, length):\n",
    "    return len(word) > length\n",
    "\n",
    "# List of words\n",
    "words = [\"apple\", \"banana\", \"cherry\", \"date\", \"fig\", \"grape\"]\n",
    "\n",
    "# Specific length to filter words by\n",
    "min_length = 4\n",
    "\n",
    "# Use a lambda function with filter to pass the specific length\n",
    "filtered_words = filter(lambda word: longer_than(word, min_length), words)\n",
    "\n",
    "# Convert the result to a list and print it\n",
    "filtered_words_list = list(filtered_words)\n",
    "print(f\"Words longer than {min_length} characters:\", filtered_words_list)\n"
   ]
  },
  {
   "cell_type": "code",
   "execution_count": null,
   "id": "3f48ad34-75de-446c-a6fe-efa1aa975eea",
   "metadata": {},
   "outputs": [],
   "source": []
  },
  {
   "cell_type": "markdown",
   "id": "aee80f51-497f-4936-81b7-078d0398b19b",
   "metadata": {},
   "source": [
    "## Recursion:-"
   ]
  },
  {
   "cell_type": "markdown",
   "id": "294e0761-b64b-4a9a-a172-23c70068e57f",
   "metadata": {},
   "source": [
    "### Write a Python program to calculate the factorial of a number using recursion."
   ]
  },
  {
   "cell_type": "code",
   "execution_count": 1,
   "id": "bf895d26-b594-4d4c-8783-d92e48c43fe8",
   "metadata": {},
   "outputs": [
    {
     "name": "stdout",
     "output_type": "stream",
     "text": [
      "120\n"
     ]
    }
   ],
   "source": [
    "def factorial(n):\n",
    "    if n == 0:  # Base case\n",
    "        return 1\n",
    "    else:\n",
    "        return n * factorial(n - 1)  # Recursive case\n",
    "\n",
    "# Test the function\n",
    "print(factorial(5))  # Output: 120\n"
   ]
  },
  {
   "cell_type": "code",
   "execution_count": null,
   "id": "434541c0-235e-417f-840c-df87e11773a4",
   "metadata": {},
   "outputs": [],
   "source": []
  },
  {
   "cell_type": "markdown",
   "id": "c4d29267-129d-4b53-9dd6-623d6dd52f03",
   "metadata": {},
   "source": [
    "### Create a recursive Python function to find the nth Fibonacci number."
   ]
  },
  {
   "cell_type": "code",
   "execution_count": 2,
   "id": "190354a9-618a-4e63-add5-79728111418d",
   "metadata": {},
   "outputs": [
    {
     "name": "stdout",
     "output_type": "stream",
     "text": [
      "The 10th Fibonacci number is: 55\n"
     ]
    }
   ],
   "source": [
    "def fibonacci(n):\n",
    "    if n == 0:\n",
    "        return 0  # Base case\n",
    "    elif n == 1:\n",
    "        return 1  # Base case\n",
    "    else:\n",
    "        return fibonacci(n - 1) + fibonacci(n - 2)  # Recursive case\n",
    "\n",
    "# Test the function\n",
    "n = 10\n",
    "print(f\"The {n}th Fibonacci number is:\", fibonacci(n))  # Output: The 10th Fibonacci number is: 55\n"
   ]
  },
  {
   "cell_type": "code",
   "execution_count": null,
   "id": "2714dff1-5cd1-40cd-8f61-9a2741baa7f6",
   "metadata": {},
   "outputs": [],
   "source": []
  },
  {
   "cell_type": "markdown",
   "id": "b1e50cc5-8756-451b-9656-70e391e0a94d",
   "metadata": {},
   "source": [
    "### Write a recursive Python function to calculate the sum of all elements in a list."
   ]
  },
  {
   "cell_type": "code",
   "execution_count": 3,
   "id": "8b95c873-6c1d-4efe-9570-2e8ea4063feb",
   "metadata": {},
   "outputs": [
    {
     "name": "stdout",
     "output_type": "stream",
     "text": [
      "Sum of elements in the list: 15\n"
     ]
    }
   ],
   "source": [
    "def sum_list_recursive(lst):\n",
    "    if not lst:  # Base case: if the list is empty\n",
    "        return 0\n",
    "    else:\n",
    "        return lst[0] + sum_list_recursive(lst[1:])  # Recursive case\n",
    "\n",
    "# Test the function\n",
    "my_list = [1, 2, 3, 4, 5]\n",
    "print(\"Sum of elements in the list:\", sum_list_recursive(my_list))  # Output: Sum of elements in the list: 15\n"
   ]
  },
  {
   "cell_type": "code",
   "execution_count": null,
   "id": "0ddea8c0-a622-4d14-a6c2-6b1f09399081",
   "metadata": {},
   "outputs": [],
   "source": []
  },
  {
   "cell_type": "markdown",
   "id": "b6394f01-c118-417d-837a-ede07b5b40bc",
   "metadata": {},
   "source": [
    "### Create a recursive Python function to find the greatest common divisor (GCD) of two numbers using the Euclidean algorithm"
   ]
  },
  {
   "cell_type": "code",
   "execution_count": 1,
   "id": "9aa46a5a-6fa7-4dca-8783-e8a88e98da72",
   "metadata": {},
   "outputs": [
    {
     "name": "stdout",
     "output_type": "stream",
     "text": [
      "6\n",
      "14\n"
     ]
    }
   ],
   "source": [
    "def gcd(a, b):\n",
    "    # Base case: if b is 0, the GCD is a\n",
    "    if b == 0:\n",
    "        return a\n",
    "    else:\n",
    "        # Recursive case: gcd(a, b) = gcd(b, a % b)\n",
    "        return gcd(b, a % b)\n",
    "\n",
    "# Example usage\n",
    "print(gcd(48, 18))  # Output should be 6\n",
    "print(gcd(56, 98))  # Output should be 14\n"
   ]
  },
  {
   "cell_type": "code",
   "execution_count": null,
   "id": "9d0f4f73-802f-4461-beef-515e23342523",
   "metadata": {},
   "outputs": [],
   "source": []
  },
  {
   "cell_type": "markdown",
   "id": "e2fc2556-c7d5-4628-bedd-0039cc22493c",
   "metadata": {},
   "source": [
    "### Write a recursive Python function to reverse a string."
   ]
  },
  {
   "cell_type": "code",
   "execution_count": 2,
   "id": "110c2ce7-f60b-4518-915a-484c81daad3a",
   "metadata": {},
   "outputs": [
    {
     "name": "stdout",
     "output_type": "stream",
     "text": [
      "olleh\n",
      "dlrow\n"
     ]
    }
   ],
   "source": [
    "def reverse_string(s):\n",
    "    # Base case: if the string is empty or has only one character, return the string\n",
    "    if len(s) <= 1:\n",
    "        return s\n",
    "    else:\n",
    "        # Recursive case: reverse the rest of the string and append the first character at the end\n",
    "        return reverse_string(s[1:]) + s[0]\n",
    "\n",
    "# Example usage\n",
    "print(reverse_string(\"hello\"))  # Output should be \"olleh\"\n",
    "print(reverse_string(\"world\"))  # Output should be \"dlrow\"\n"
   ]
  },
  {
   "cell_type": "code",
   "execution_count": null,
   "id": "d91b77b7-bf84-433b-92df-5ed1d4eefce5",
   "metadata": {},
   "outputs": [],
   "source": []
  },
  {
   "cell_type": "markdown",
   "id": "dec8a60d-5900-44bd-9f61-27d2c76c23cf",
   "metadata": {},
   "source": [
    "### Create a recursive Python function to calculate the power of a number (x^n)."
   ]
  },
  {
   "cell_type": "code",
   "execution_count": 3,
   "id": "ee884c9b-95f2-4c01-811c-d2fb356e6958",
   "metadata": {},
   "outputs": [
    {
     "name": "stdout",
     "output_type": "stream",
     "text": [
      "8\n",
      "1\n",
      "0.25\n"
     ]
    }
   ],
   "source": [
    "def power(x, n):\n",
    "    # Base case: x^0 is always 1\n",
    "    if n == 0:\n",
    "        return 1\n",
    "    # Base case: x^1 is x\n",
    "    elif n == 1:\n",
    "        return x\n",
    "    # Recursive case: for n > 0\n",
    "    elif n > 1:\n",
    "        return x * power(x, n - 1)\n",
    "    # Handle negative exponents\n",
    "    else:\n",
    "        return 1 / power(x, -n)\n",
    "\n",
    "# Example usage\n",
    "print(power(2, 3))   # Output should be 8 (2^3)\n",
    "print(power(5, 0))   # Output should be 1 (5^0)\n",
    "print(power(2, -2))  # Output should be 0.25 (2^-2)\n"
   ]
  },
  {
   "cell_type": "code",
   "execution_count": null,
   "id": "f8fed101-a026-44a6-b169-07358bbc7359",
   "metadata": {},
   "outputs": [],
   "source": []
  }
 ],
 "metadata": {
  "kernelspec": {
   "display_name": "Python 3 (ipykernel)",
   "language": "python",
   "name": "python3"
  },
  "language_info": {
   "codemirror_mode": {
    "name": "ipython",
    "version": 3
   },
   "file_extension": ".py",
   "mimetype": "text/x-python",
   "name": "python",
   "nbconvert_exporter": "python",
   "pygments_lexer": "ipython3",
   "version": "3.10.8"
  }
 },
 "nbformat": 4,
 "nbformat_minor": 5
}
